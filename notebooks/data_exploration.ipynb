{
 "cells": [
  {
   "cell_type": "code",
   "execution_count": 1,
   "id": "ec413b6d",
   "metadata": {},
   "outputs": [],
   "source": [
    "import pandas as pd\n",
    "import numpy as np\n",
    "import seaborn as sb\n",
    "import matplotlib.pyplot as plt"
   ]
  },
  {
   "cell_type": "code",
   "execution_count": 2,
   "id": "a9b34a50",
   "metadata": {},
   "outputs": [],
   "source": [
    "# creating dataframes\n",
    "purchase_price = pd.read_csv('2017PurchasePricesDeccsv/2017PurchasePricesDec.csv')\n",
    "beg_inv = pd.read_csv('BegInvFINAL12312016csv/BegInvFINAL12312016.csv')\n",
    "end_inv = pd.read_csv('EndInvFINAL12312016csv/EndInvFINAL12312016.csv')\n",
    "final_purchase = pd.read_csv('PurchasesFINAL12312016csv/PurchasesFINAL12312016.csv')\n",
    "sales = pd.read_csv('SalesFINAL12312016csv/SalesFINAL12312016.csv')\n",
    "vendor_invoices = pd.read_csv('VendorInvoices12312016csv/InvoicePurchases12312016.csv')"
   ]
  },
  {
   "cell_type": "markdown",
   "id": "fab72088",
   "metadata": {},
   "source": [
    "# Purchase_price table"
   ]
  },
  {
   "cell_type": "code",
   "execution_count": 3,
   "id": "8f1a7c3d",
   "metadata": {},
   "outputs": [
    {
     "data": {
      "text/html": [
       "<div>\n",
       "<style scoped>\n",
       "    .dataframe tbody tr th:only-of-type {\n",
       "        vertical-align: middle;\n",
       "    }\n",
       "\n",
       "    .dataframe tbody tr th {\n",
       "        vertical-align: top;\n",
       "    }\n",
       "\n",
       "    .dataframe thead th {\n",
       "        text-align: right;\n",
       "    }\n",
       "</style>\n",
       "<table border=\"1\" class=\"dataframe\">\n",
       "  <thead>\n",
       "    <tr style=\"text-align: right;\">\n",
       "      <th></th>\n",
       "      <th>Brand</th>\n",
       "      <th>Description</th>\n",
       "      <th>Price</th>\n",
       "      <th>Size</th>\n",
       "      <th>Volume</th>\n",
       "      <th>Classification</th>\n",
       "      <th>PurchasePrice</th>\n",
       "      <th>VendorNumber</th>\n",
       "      <th>VendorName</th>\n",
       "    </tr>\n",
       "  </thead>\n",
       "  <tbody>\n",
       "    <tr>\n",
       "      <th>0</th>\n",
       "      <td>58</td>\n",
       "      <td>Gekkeikan Black &amp; Gold Sake</td>\n",
       "      <td>12.99</td>\n",
       "      <td>750mL</td>\n",
       "      <td>750</td>\n",
       "      <td>1</td>\n",
       "      <td>9.28</td>\n",
       "      <td>8320</td>\n",
       "      <td>SHAW ROSS INT L IMP LTD</td>\n",
       "    </tr>\n",
       "    <tr>\n",
       "      <th>1</th>\n",
       "      <td>62</td>\n",
       "      <td>Herradura Silver Tequila</td>\n",
       "      <td>36.99</td>\n",
       "      <td>750mL</td>\n",
       "      <td>750</td>\n",
       "      <td>1</td>\n",
       "      <td>28.67</td>\n",
       "      <td>1128</td>\n",
       "      <td>BROWN-FORMAN CORP</td>\n",
       "    </tr>\n",
       "    <tr>\n",
       "      <th>2</th>\n",
       "      <td>63</td>\n",
       "      <td>Herradura Reposado Tequila</td>\n",
       "      <td>38.99</td>\n",
       "      <td>750mL</td>\n",
       "      <td>750</td>\n",
       "      <td>1</td>\n",
       "      <td>30.46</td>\n",
       "      <td>1128</td>\n",
       "      <td>BROWN-FORMAN CORP</td>\n",
       "    </tr>\n",
       "    <tr>\n",
       "      <th>3</th>\n",
       "      <td>72</td>\n",
       "      <td>No. 3 London Dry Gin</td>\n",
       "      <td>34.99</td>\n",
       "      <td>750mL</td>\n",
       "      <td>750</td>\n",
       "      <td>1</td>\n",
       "      <td>26.11</td>\n",
       "      <td>9165</td>\n",
       "      <td>ULTRA BEVERAGE COMPANY LLP</td>\n",
       "    </tr>\n",
       "    <tr>\n",
       "      <th>4</th>\n",
       "      <td>75</td>\n",
       "      <td>Three Olives Tomato Vodka</td>\n",
       "      <td>14.99</td>\n",
       "      <td>750mL</td>\n",
       "      <td>750</td>\n",
       "      <td>1</td>\n",
       "      <td>10.94</td>\n",
       "      <td>7245</td>\n",
       "      <td>PROXIMO SPIRITS INC.</td>\n",
       "    </tr>\n",
       "    <tr>\n",
       "      <th>...</th>\n",
       "      <td>...</td>\n",
       "      <td>...</td>\n",
       "      <td>...</td>\n",
       "      <td>...</td>\n",
       "      <td>...</td>\n",
       "      <td>...</td>\n",
       "      <td>...</td>\n",
       "      <td>...</td>\n",
       "      <td>...</td>\n",
       "    </tr>\n",
       "    <tr>\n",
       "      <th>12256</th>\n",
       "      <td>44917</td>\n",
       "      <td>Ferreira 10-Yr Tawny Port</td>\n",
       "      <td>24.99</td>\n",
       "      <td>750mL</td>\n",
       "      <td>750</td>\n",
       "      <td>2</td>\n",
       "      <td>16.55</td>\n",
       "      <td>90024</td>\n",
       "      <td>VINILANDIA USA</td>\n",
       "    </tr>\n",
       "    <tr>\n",
       "      <th>12257</th>\n",
       "      <td>44944</td>\n",
       "      <td>Sanford Santa Rita Pnt Nr</td>\n",
       "      <td>22.99</td>\n",
       "      <td>750mL</td>\n",
       "      <td>750</td>\n",
       "      <td>2</td>\n",
       "      <td>14.93</td>\n",
       "      <td>4425</td>\n",
       "      <td>MARTIGNETTI COMPANIES</td>\n",
       "    </tr>\n",
       "    <tr>\n",
       "      <th>12258</th>\n",
       "      <td>45016</td>\n",
       "      <td>Neal One Lane Bridg Cab Svgn</td>\n",
       "      <td>93.99</td>\n",
       "      <td>750mL</td>\n",
       "      <td>750</td>\n",
       "      <td>2</td>\n",
       "      <td>61.43</td>\n",
       "      <td>10754</td>\n",
       "      <td>PERFECTA WINES</td>\n",
       "    </tr>\n",
       "    <tr>\n",
       "      <th>12259</th>\n",
       "      <td>46011</td>\n",
       "      <td>Folonari Pnt Nr Venezie</td>\n",
       "      <td>12.99</td>\n",
       "      <td>1500ml</td>\n",
       "      <td>1500</td>\n",
       "      <td>2</td>\n",
       "      <td>8.90</td>\n",
       "      <td>9744</td>\n",
       "      <td>FREDERICK WILDMAN &amp; SONS</td>\n",
       "    </tr>\n",
       "    <tr>\n",
       "      <th>12260</th>\n",
       "      <td>46964</td>\n",
       "      <td>Calera Viognier Mt Harlan</td>\n",
       "      <td>35.99</td>\n",
       "      <td>750mL</td>\n",
       "      <td>750</td>\n",
       "      <td>2</td>\n",
       "      <td>24.32</td>\n",
       "      <td>10754</td>\n",
       "      <td>PERFECTA WINES</td>\n",
       "    </tr>\n",
       "  </tbody>\n",
       "</table>\n",
       "<p>12261 rows × 9 columns</p>\n",
       "</div>"
      ],
      "text/plain": [
       "       Brand                   Description  Price    Size Volume  \\\n",
       "0         58   Gekkeikan Black & Gold Sake  12.99   750mL    750   \n",
       "1         62      Herradura Silver Tequila  36.99   750mL    750   \n",
       "2         63    Herradura Reposado Tequila  38.99   750mL    750   \n",
       "3         72          No. 3 London Dry Gin  34.99   750mL    750   \n",
       "4         75     Three Olives Tomato Vodka  14.99   750mL    750   \n",
       "...      ...                           ...    ...     ...    ...   \n",
       "12256  44917     Ferreira 10-Yr Tawny Port  24.99   750mL    750   \n",
       "12257  44944     Sanford Santa Rita Pnt Nr  22.99   750mL    750   \n",
       "12258  45016  Neal One Lane Bridg Cab Svgn  93.99   750mL    750   \n",
       "12259  46011       Folonari Pnt Nr Venezie  12.99  1500ml   1500   \n",
       "12260  46964     Calera Viognier Mt Harlan  35.99   750mL    750   \n",
       "\n",
       "       Classification  PurchasePrice  VendorNumber  \\\n",
       "0                   1           9.28          8320   \n",
       "1                   1          28.67          1128   \n",
       "2                   1          30.46          1128   \n",
       "3                   1          26.11          9165   \n",
       "4                   1          10.94          7245   \n",
       "...               ...            ...           ...   \n",
       "12256               2          16.55         90024   \n",
       "12257               2          14.93          4425   \n",
       "12258               2          61.43         10754   \n",
       "12259               2           8.90          9744   \n",
       "12260               2          24.32         10754   \n",
       "\n",
       "                        VendorName  \n",
       "0      SHAW ROSS INT L IMP LTD      \n",
       "1      BROWN-FORMAN CORP            \n",
       "2      BROWN-FORMAN CORP            \n",
       "3      ULTRA BEVERAGE COMPANY LLP   \n",
       "4      PROXIMO SPIRITS INC.         \n",
       "...                            ...  \n",
       "12256  VINILANDIA USA               \n",
       "12257        MARTIGNETTI COMPANIES  \n",
       "12258  PERFECTA WINES               \n",
       "12259  FREDERICK WILDMAN & SONS     \n",
       "12260  PERFECTA WINES               \n",
       "\n",
       "[12261 rows x 9 columns]"
      ]
     },
     "execution_count": 3,
     "metadata": {},
     "output_type": "execute_result"
    }
   ],
   "source": [
    "# Exploring data\n",
    "purchase_price"
   ]
  },
  {
   "cell_type": "code",
   "execution_count": 4,
   "id": "5c5f229b",
   "metadata": {},
   "outputs": [
    {
     "name": "stdout",
     "output_type": "stream",
     "text": [
      "<class 'pandas.core.frame.DataFrame'>\n",
      "RangeIndex: 12261 entries, 0 to 12260\n",
      "Data columns (total 9 columns):\n",
      " #   Column          Non-Null Count  Dtype  \n",
      "---  ------          --------------  -----  \n",
      " 0   Brand           12261 non-null  int64  \n",
      " 1   Description     12260 non-null  object \n",
      " 2   Price           12261 non-null  float64\n",
      " 3   Size            12260 non-null  object \n",
      " 4   Volume          12260 non-null  object \n",
      " 5   Classification  12261 non-null  int64  \n",
      " 6   PurchasePrice   12261 non-null  float64\n",
      " 7   VendorNumber    12261 non-null  int64  \n",
      " 8   VendorName      12261 non-null  object \n",
      "dtypes: float64(2), int64(3), object(4)\n",
      "memory usage: 862.2+ KB\n"
     ]
    }
   ],
   "source": [
    "purchase_price.info()       "
   ]
  },
  {
   "cell_type": "code",
   "execution_count": 5,
   "id": "cb06711d",
   "metadata": {},
   "outputs": [
    {
     "data": {
      "text/plain": [
       "Brand             0\n",
       "Price             0\n",
       "PurchasePrice     0\n",
       "Classification    0\n",
       "VendorNumber      0\n",
       "VendorName        0\n",
       "Size              1\n",
       "Description       1\n",
       "Volume            1\n",
       "dtype: int64"
      ]
     },
     "execution_count": 5,
     "metadata": {},
     "output_type": "execute_result"
    }
   ],
   "source": [
    "purchase_price.isnull().sum().sort_values(ascending=True)"
   ]
  },
  {
   "cell_type": "code",
   "execution_count": 6,
   "id": "71d29afd",
   "metadata": {},
   "outputs": [
    {
     "data": {
      "text/plain": [
       "array(['750', '1000', '1750', '50', '375', '100', '200', '300', 'Unknown',\n",
       "       '250', '1500', '3000', '5000', '4000', '187', '150', '500', '720',\n",
       "       '650', '330', '18000', '180', '6000', '20', nan, '20000', '162.5',\n",
       "       '400', '1100', '600', '19500', '560', '3750', '9000'], dtype=object)"
      ]
     },
     "execution_count": 6,
     "metadata": {},
     "output_type": "execute_result"
    }
   ],
   "source": [
    "# changing column 'Volume' datatype to float and handling missing values\n",
    "purchase_price['Volume'].unique()\n",
    "\n",
    "#Have nan and unknown values and is of str dats type"
   ]
  },
  {
   "cell_type": "code",
   "execution_count": 7,
   "id": "75399f04",
   "metadata": {},
   "outputs": [
    {
     "data": {
      "text/plain": [
       "array([  750. ,  1000. ,  1750. ,    50. ,   375. ,   100. ,   200. ,\n",
       "         300. ,     nan,   250. ,  1500. ,  3000. ,  5000. ,  4000. ,\n",
       "         187. ,   150. ,   500. ,   720. ,   650. ,   330. , 18000. ,\n",
       "         180. ,  6000. ,    20. , 20000. ,   162.5,   400. ,  1100. ,\n",
       "         600. , 19500. ,   560. ,  3750. ,  9000. ])"
      ]
     },
     "execution_count": 7,
     "metadata": {},
     "output_type": "execute_result"
    }
   ],
   "source": [
    "# Changing column Volume to float\n",
    "purchase_price['Volume'] = purchase_price['Volume'].replace('Unknown',np.nan)\n",
    "purchase_price['Volume'] = purchase_price['Volume'].astype(float)\n",
    "purchase_price['Volume'].unique()"
   ]
  },
  {
   "cell_type": "code",
   "execution_count": 8,
   "id": "8f41a803",
   "metadata": {},
   "outputs": [
    {
     "data": {
      "text/html": [
       "<div>\n",
       "<style scoped>\n",
       "    .dataframe tbody tr th:only-of-type {\n",
       "        vertical-align: middle;\n",
       "    }\n",
       "\n",
       "    .dataframe tbody tr th {\n",
       "        vertical-align: top;\n",
       "    }\n",
       "\n",
       "    .dataframe thead th {\n",
       "        text-align: right;\n",
       "    }\n",
       "</style>\n",
       "<table border=\"1\" class=\"dataframe\">\n",
       "  <thead>\n",
       "    <tr style=\"text-align: right;\">\n",
       "      <th></th>\n",
       "      <th>Brand</th>\n",
       "      <th>Description</th>\n",
       "      <th>Price</th>\n",
       "      <th>Size</th>\n",
       "      <th>Volume</th>\n",
       "      <th>Classification</th>\n",
       "      <th>PurchasePrice</th>\n",
       "      <th>VendorNumber</th>\n",
       "      <th>VendorName</th>\n",
       "    </tr>\n",
       "  </thead>\n",
       "  <tbody>\n",
       "    <tr>\n",
       "      <th>8798</th>\n",
       "      <td>23047</td>\n",
       "      <td>From the Tank Red Keg</td>\n",
       "      <td>230.49</td>\n",
       "      <td>20000mL</td>\n",
       "      <td>20000.0</td>\n",
       "      <td>2</td>\n",
       "      <td>149.67</td>\n",
       "      <td>90024</td>\n",
       "      <td>VINILANDIA USA</td>\n",
       "    </tr>\n",
       "    <tr>\n",
       "      <th>9406</th>\n",
       "      <td>25463</td>\n",
       "      <td>Eden Dry Cider Keg</td>\n",
       "      <td>227.99</td>\n",
       "      <td>20000mL</td>\n",
       "      <td>20000.0</td>\n",
       "      <td>2</td>\n",
       "      <td>155.10</td>\n",
       "      <td>90047</td>\n",
       "      <td>CRUSH WINES</td>\n",
       "    </tr>\n",
       "    <tr>\n",
       "      <th>10508</th>\n",
       "      <td>23491</td>\n",
       "      <td>True Myth Chard Keg</td>\n",
       "      <td>346.99</td>\n",
       "      <td>20000mL</td>\n",
       "      <td>20000.0</td>\n",
       "      <td>2</td>\n",
       "      <td>204.60</td>\n",
       "      <td>90047</td>\n",
       "      <td>CRUSH WINES</td>\n",
       "    </tr>\n",
       "    <tr>\n",
       "      <th>11400</th>\n",
       "      <td>25464</td>\n",
       "      <td>Eden Rose Cider Keg</td>\n",
       "      <td>251.49</td>\n",
       "      <td>20000mL</td>\n",
       "      <td>20000.0</td>\n",
       "      <td>2</td>\n",
       "      <td>163.31</td>\n",
       "      <td>90047</td>\n",
       "      <td>CRUSH WINES</td>\n",
       "    </tr>\n",
       "    <tr>\n",
       "      <th>12018</th>\n",
       "      <td>26146</td>\n",
       "      <td>Montelvini CabMerlot</td>\n",
       "      <td>221.99</td>\n",
       "      <td>20000mL</td>\n",
       "      <td>20000.0</td>\n",
       "      <td>2</td>\n",
       "      <td>151.01</td>\n",
       "      <td>90011</td>\n",
       "      <td>FORTUNE WINE BROKERS LLC</td>\n",
       "    </tr>\n",
       "  </tbody>\n",
       "</table>\n",
       "</div>"
      ],
      "text/plain": [
       "       Brand            Description   Price     Size   Volume  Classification  \\\n",
       "8798   23047  From the Tank Red Keg  230.49  20000mL  20000.0               2   \n",
       "9406   25463     Eden Dry Cider Keg  227.99  20000mL  20000.0               2   \n",
       "10508  23491    True Myth Chard Keg  346.99  20000mL  20000.0               2   \n",
       "11400  25464    Eden Rose Cider Keg  251.49  20000mL  20000.0               2   \n",
       "12018  26146   Montelvini CabMerlot  221.99  20000mL  20000.0               2   \n",
       "\n",
       "       PurchasePrice  VendorNumber                   VendorName  \n",
       "8798          149.67         90024  VINILANDIA USA               \n",
       "9406          155.10         90047  CRUSH WINES                  \n",
       "10508         204.60         90047  CRUSH WINES                  \n",
       "11400         163.31         90047  CRUSH WINES                  \n",
       "12018         151.01         90011  FORTUNE WINE BROKERS LLC     "
      ]
     },
     "execution_count": 8,
     "metadata": {},
     "output_type": "execute_result"
    }
   ],
   "source": [
    "purchase_price[purchase_price['Volume']==20000.]"
   ]
  },
  {
   "cell_type": "code",
   "execution_count": 9,
   "id": "83309236",
   "metadata": {},
   "outputs": [],
   "source": [
    "# filling miising values based on the mean volume within the same price range\n",
    "\n",
    "# creating price range using quantile based bins\n",
    "purchase_price['price_range'] = pd.qcut(purchase_price['PurchasePrice'], q=4)"
   ]
  },
  {
   "cell_type": "code",
   "execution_count": 10,
   "id": "5a9692f5",
   "metadata": {},
   "outputs": [
    {
     "data": {
      "text/html": [
       "<div>\n",
       "<style scoped>\n",
       "    .dataframe tbody tr th:only-of-type {\n",
       "        vertical-align: middle;\n",
       "    }\n",
       "\n",
       "    .dataframe tbody tr th {\n",
       "        vertical-align: top;\n",
       "    }\n",
       "\n",
       "    .dataframe thead th {\n",
       "        text-align: right;\n",
       "    }\n",
       "</style>\n",
       "<table border=\"1\" class=\"dataframe\">\n",
       "  <thead>\n",
       "    <tr style=\"text-align: right;\">\n",
       "      <th></th>\n",
       "      <th>Brand</th>\n",
       "      <th>Description</th>\n",
       "      <th>Price</th>\n",
       "      <th>Size</th>\n",
       "      <th>Volume</th>\n",
       "      <th>Classification</th>\n",
       "      <th>PurchasePrice</th>\n",
       "      <th>VendorNumber</th>\n",
       "      <th>VendorName</th>\n",
       "      <th>price_range</th>\n",
       "    </tr>\n",
       "  </thead>\n",
       "  <tbody>\n",
       "    <tr>\n",
       "      <th>0</th>\n",
       "      <td>58</td>\n",
       "      <td>Gekkeikan Black &amp; Gold Sake</td>\n",
       "      <td>12.99</td>\n",
       "      <td>750mL</td>\n",
       "      <td>750.0</td>\n",
       "      <td>1</td>\n",
       "      <td>9.28</td>\n",
       "      <td>8320</td>\n",
       "      <td>SHAW ROSS INT L IMP LTD</td>\n",
       "      <td>(6.89, 10.65]</td>\n",
       "    </tr>\n",
       "    <tr>\n",
       "      <th>1</th>\n",
       "      <td>62</td>\n",
       "      <td>Herradura Silver Tequila</td>\n",
       "      <td>36.99</td>\n",
       "      <td>750mL</td>\n",
       "      <td>750.0</td>\n",
       "      <td>1</td>\n",
       "      <td>28.67</td>\n",
       "      <td>1128</td>\n",
       "      <td>BROWN-FORMAN CORP</td>\n",
       "      <td>(20.13, 11111.03]</td>\n",
       "    </tr>\n",
       "    <tr>\n",
       "      <th>2</th>\n",
       "      <td>63</td>\n",
       "      <td>Herradura Reposado Tequila</td>\n",
       "      <td>38.99</td>\n",
       "      <td>750mL</td>\n",
       "      <td>750.0</td>\n",
       "      <td>1</td>\n",
       "      <td>30.46</td>\n",
       "      <td>1128</td>\n",
       "      <td>BROWN-FORMAN CORP</td>\n",
       "      <td>(20.13, 11111.03]</td>\n",
       "    </tr>\n",
       "    <tr>\n",
       "      <th>3</th>\n",
       "      <td>72</td>\n",
       "      <td>No. 3 London Dry Gin</td>\n",
       "      <td>34.99</td>\n",
       "      <td>750mL</td>\n",
       "      <td>750.0</td>\n",
       "      <td>1</td>\n",
       "      <td>26.11</td>\n",
       "      <td>9165</td>\n",
       "      <td>ULTRA BEVERAGE COMPANY LLP</td>\n",
       "      <td>(20.13, 11111.03]</td>\n",
       "    </tr>\n",
       "    <tr>\n",
       "      <th>4</th>\n",
       "      <td>75</td>\n",
       "      <td>Three Olives Tomato Vodka</td>\n",
       "      <td>14.99</td>\n",
       "      <td>750mL</td>\n",
       "      <td>750.0</td>\n",
       "      <td>1</td>\n",
       "      <td>10.94</td>\n",
       "      <td>7245</td>\n",
       "      <td>PROXIMO SPIRITS INC.</td>\n",
       "      <td>(10.65, 20.13]</td>\n",
       "    </tr>\n",
       "    <tr>\n",
       "      <th>...</th>\n",
       "      <td>...</td>\n",
       "      <td>...</td>\n",
       "      <td>...</td>\n",
       "      <td>...</td>\n",
       "      <td>...</td>\n",
       "      <td>...</td>\n",
       "      <td>...</td>\n",
       "      <td>...</td>\n",
       "      <td>...</td>\n",
       "      <td>...</td>\n",
       "    </tr>\n",
       "    <tr>\n",
       "      <th>12256</th>\n",
       "      <td>44917</td>\n",
       "      <td>Ferreira 10-Yr Tawny Port</td>\n",
       "      <td>24.99</td>\n",
       "      <td>750mL</td>\n",
       "      <td>750.0</td>\n",
       "      <td>2</td>\n",
       "      <td>16.55</td>\n",
       "      <td>90024</td>\n",
       "      <td>VINILANDIA USA</td>\n",
       "      <td>(10.65, 20.13]</td>\n",
       "    </tr>\n",
       "    <tr>\n",
       "      <th>12257</th>\n",
       "      <td>44944</td>\n",
       "      <td>Sanford Santa Rita Pnt Nr</td>\n",
       "      <td>22.99</td>\n",
       "      <td>750mL</td>\n",
       "      <td>750.0</td>\n",
       "      <td>2</td>\n",
       "      <td>14.93</td>\n",
       "      <td>4425</td>\n",
       "      <td>MARTIGNETTI COMPANIES</td>\n",
       "      <td>(10.65, 20.13]</td>\n",
       "    </tr>\n",
       "    <tr>\n",
       "      <th>12258</th>\n",
       "      <td>45016</td>\n",
       "      <td>Neal One Lane Bridg Cab Svgn</td>\n",
       "      <td>93.99</td>\n",
       "      <td>750mL</td>\n",
       "      <td>750.0</td>\n",
       "      <td>2</td>\n",
       "      <td>61.43</td>\n",
       "      <td>10754</td>\n",
       "      <td>PERFECTA WINES</td>\n",
       "      <td>(20.13, 11111.03]</td>\n",
       "    </tr>\n",
       "    <tr>\n",
       "      <th>12259</th>\n",
       "      <td>46011</td>\n",
       "      <td>Folonari Pnt Nr Venezie</td>\n",
       "      <td>12.99</td>\n",
       "      <td>1500ml</td>\n",
       "      <td>1500.0</td>\n",
       "      <td>2</td>\n",
       "      <td>8.90</td>\n",
       "      <td>9744</td>\n",
       "      <td>FREDERICK WILDMAN &amp; SONS</td>\n",
       "      <td>(6.89, 10.65]</td>\n",
       "    </tr>\n",
       "    <tr>\n",
       "      <th>12260</th>\n",
       "      <td>46964</td>\n",
       "      <td>Calera Viognier Mt Harlan</td>\n",
       "      <td>35.99</td>\n",
       "      <td>750mL</td>\n",
       "      <td>750.0</td>\n",
       "      <td>2</td>\n",
       "      <td>24.32</td>\n",
       "      <td>10754</td>\n",
       "      <td>PERFECTA WINES</td>\n",
       "      <td>(20.13, 11111.03]</td>\n",
       "    </tr>\n",
       "  </tbody>\n",
       "</table>\n",
       "<p>12261 rows × 10 columns</p>\n",
       "</div>"
      ],
      "text/plain": [
       "       Brand                   Description  Price    Size  Volume  \\\n",
       "0         58   Gekkeikan Black & Gold Sake  12.99   750mL   750.0   \n",
       "1         62      Herradura Silver Tequila  36.99   750mL   750.0   \n",
       "2         63    Herradura Reposado Tequila  38.99   750mL   750.0   \n",
       "3         72          No. 3 London Dry Gin  34.99   750mL   750.0   \n",
       "4         75     Three Olives Tomato Vodka  14.99   750mL   750.0   \n",
       "...      ...                           ...    ...     ...     ...   \n",
       "12256  44917     Ferreira 10-Yr Tawny Port  24.99   750mL   750.0   \n",
       "12257  44944     Sanford Santa Rita Pnt Nr  22.99   750mL   750.0   \n",
       "12258  45016  Neal One Lane Bridg Cab Svgn  93.99   750mL   750.0   \n",
       "12259  46011       Folonari Pnt Nr Venezie  12.99  1500ml  1500.0   \n",
       "12260  46964     Calera Viognier Mt Harlan  35.99   750mL   750.0   \n",
       "\n",
       "       Classification  PurchasePrice  VendorNumber  \\\n",
       "0                   1           9.28          8320   \n",
       "1                   1          28.67          1128   \n",
       "2                   1          30.46          1128   \n",
       "3                   1          26.11          9165   \n",
       "4                   1          10.94          7245   \n",
       "...               ...            ...           ...   \n",
       "12256               2          16.55         90024   \n",
       "12257               2          14.93          4425   \n",
       "12258               2          61.43         10754   \n",
       "12259               2           8.90          9744   \n",
       "12260               2          24.32         10754   \n",
       "\n",
       "                        VendorName        price_range  \n",
       "0      SHAW ROSS INT L IMP LTD          (6.89, 10.65]  \n",
       "1      BROWN-FORMAN CORP            (20.13, 11111.03]  \n",
       "2      BROWN-FORMAN CORP            (20.13, 11111.03]  \n",
       "3      ULTRA BEVERAGE COMPANY LLP   (20.13, 11111.03]  \n",
       "4      PROXIMO SPIRITS INC.            (10.65, 20.13]  \n",
       "...                            ...                ...  \n",
       "12256  VINILANDIA USA                  (10.65, 20.13]  \n",
       "12257        MARTIGNETTI COMPANIES     (10.65, 20.13]  \n",
       "12258  PERFECTA WINES               (20.13, 11111.03]  \n",
       "12259  FREDERICK WILDMAN & SONS         (6.89, 10.65]  \n",
       "12260  PERFECTA WINES               (20.13, 11111.03]  \n",
       "\n",
       "[12261 rows x 10 columns]"
      ]
     },
     "execution_count": 10,
     "metadata": {},
     "output_type": "execute_result"
    }
   ],
   "source": [
    "purchase_price"
   ]
  },
  {
   "cell_type": "code",
   "execution_count": 11,
   "id": "ace83828",
   "metadata": {},
   "outputs": [],
   "source": [
    "# filling missing values\n",
    "def fill_volume_by_price_range(row):\n",
    "    if pd.isna(row['Volume']):\n",
    "        median_value = purchase_price[purchase_price['price_range']==row['price_range']]['Volume'].median()\n",
    "        return median_value\n",
    "    else:\n",
    "        return row['Volume']\n",
    "\n",
    "purchase_price['Volume'] = purchase_price.apply(fill_volume_by_price_range, axis = 1)\n",
    "\n",
    "# dropping temp price range column\n",
    "purchase_price = purchase_price.drop(columns='price_range')"
   ]
  },
  {
   "cell_type": "code",
   "execution_count": 12,
   "id": "f5ed2e5e",
   "metadata": {},
   "outputs": [
    {
     "data": {
      "text/plain": [
       "array([  750. ,  1000. ,  1750. ,    50. ,   375. ,   100. ,   200. ,\n",
       "         300. ,   250. ,  1500. ,  3000. ,  5000. ,  4000. ,   187. ,\n",
       "         150. ,   500. ,   720. ,   650. ,   330. , 18000. ,   180. ,\n",
       "        6000. ,    20. , 20000. ,   162.5,   400. ,  1100. ,   600. ,\n",
       "       19500. ,   560. ,  3750. ,  9000. ])"
      ]
     },
     "execution_count": 12,
     "metadata": {},
     "output_type": "execute_result"
    }
   ],
   "source": [
    "purchase_price['Volume'].unique()"
   ]
  },
  {
   "cell_type": "code",
   "execution_count": 13,
   "id": "29309bff",
   "metadata": {},
   "outputs": [
    {
     "data": {
      "text/plain": [
       "Brand             0\n",
       "Price             0\n",
       "Classification    0\n",
       "Volume            0\n",
       "PurchasePrice     0\n",
       "VendorNumber      0\n",
       "VendorName        0\n",
       "Size              1\n",
       "Description       1\n",
       "dtype: int64"
      ]
     },
     "execution_count": 13,
     "metadata": {},
     "output_type": "execute_result"
    }
   ],
   "source": [
    "# checking Null values\n",
    "purchase_price.isnull().sum().sort_values(ascending=True)"
   ]
  },
  {
   "cell_type": "code",
   "execution_count": 14,
   "id": "962b1be9",
   "metadata": {},
   "outputs": [
    {
     "data": {
      "text/html": [
       "<div>\n",
       "<style scoped>\n",
       "    .dataframe tbody tr th:only-of-type {\n",
       "        vertical-align: middle;\n",
       "    }\n",
       "\n",
       "    .dataframe tbody tr th {\n",
       "        vertical-align: top;\n",
       "    }\n",
       "\n",
       "    .dataframe thead th {\n",
       "        text-align: right;\n",
       "    }\n",
       "</style>\n",
       "<table border=\"1\" class=\"dataframe\">\n",
       "  <thead>\n",
       "    <tr style=\"text-align: right;\">\n",
       "      <th></th>\n",
       "      <th>Brand</th>\n",
       "      <th>Price</th>\n",
       "      <th>Volume</th>\n",
       "      <th>Classification</th>\n",
       "      <th>PurchasePrice</th>\n",
       "      <th>VendorNumber</th>\n",
       "    </tr>\n",
       "  </thead>\n",
       "  <tbody>\n",
       "    <tr>\n",
       "      <th>count</th>\n",
       "      <td>12261.000000</td>\n",
       "      <td>12261.000000</td>\n",
       "      <td>12261.000000</td>\n",
       "      <td>12261.000000</td>\n",
       "      <td>12261.000000</td>\n",
       "      <td>12261.000000</td>\n",
       "    </tr>\n",
       "    <tr>\n",
       "      <th>mean</th>\n",
       "      <td>17989.067123</td>\n",
       "      <td>38.640240</td>\n",
       "      <td>842.883574</td>\n",
       "      <td>1.708996</td>\n",
       "      <td>26.488220</td>\n",
       "      <td>10814.861757</td>\n",
       "    </tr>\n",
       "    <tr>\n",
       "      <th>std</th>\n",
       "      <td>12528.503464</td>\n",
       "      <td>206.151172</td>\n",
       "      <td>679.393638</td>\n",
       "      <td>0.454244</td>\n",
       "      <td>156.182948</td>\n",
       "      <td>19007.682322</td>\n",
       "    </tr>\n",
       "    <tr>\n",
       "      <th>min</th>\n",
       "      <td>58.000000</td>\n",
       "      <td>0.000000</td>\n",
       "      <td>20.000000</td>\n",
       "      <td>1.000000</td>\n",
       "      <td>0.000000</td>\n",
       "      <td>2.000000</td>\n",
       "    </tr>\n",
       "    <tr>\n",
       "      <th>25%</th>\n",
       "      <td>5990.000000</td>\n",
       "      <td>10.990000</td>\n",
       "      <td>750.000000</td>\n",
       "      <td>1.000000</td>\n",
       "      <td>6.890000</td>\n",
       "      <td>3960.000000</td>\n",
       "    </tr>\n",
       "    <tr>\n",
       "      <th>50%</th>\n",
       "      <td>18788.000000</td>\n",
       "      <td>15.990000</td>\n",
       "      <td>750.000000</td>\n",
       "      <td>2.000000</td>\n",
       "      <td>10.650000</td>\n",
       "      <td>7153.000000</td>\n",
       "    </tr>\n",
       "    <tr>\n",
       "      <th>75%</th>\n",
       "      <td>25117.000000</td>\n",
       "      <td>29.990000</td>\n",
       "      <td>750.000000</td>\n",
       "      <td>2.000000</td>\n",
       "      <td>20.130000</td>\n",
       "      <td>9552.000000</td>\n",
       "    </tr>\n",
       "    <tr>\n",
       "      <th>max</th>\n",
       "      <td>90631.000000</td>\n",
       "      <td>13999.900000</td>\n",
       "      <td>20000.000000</td>\n",
       "      <td>2.000000</td>\n",
       "      <td>11111.030000</td>\n",
       "      <td>173357.000000</td>\n",
       "    </tr>\n",
       "  </tbody>\n",
       "</table>\n",
       "</div>"
      ],
      "text/plain": [
       "              Brand         Price        Volume  Classification  \\\n",
       "count  12261.000000  12261.000000  12261.000000    12261.000000   \n",
       "mean   17989.067123     38.640240    842.883574        1.708996   \n",
       "std    12528.503464    206.151172    679.393638        0.454244   \n",
       "min       58.000000      0.000000     20.000000        1.000000   \n",
       "25%     5990.000000     10.990000    750.000000        1.000000   \n",
       "50%    18788.000000     15.990000    750.000000        2.000000   \n",
       "75%    25117.000000     29.990000    750.000000        2.000000   \n",
       "max    90631.000000  13999.900000  20000.000000        2.000000   \n",
       "\n",
       "       PurchasePrice   VendorNumber  \n",
       "count   12261.000000   12261.000000  \n",
       "mean       26.488220   10814.861757  \n",
       "std       156.182948   19007.682322  \n",
       "min         0.000000       2.000000  \n",
       "25%         6.890000    3960.000000  \n",
       "50%        10.650000    7153.000000  \n",
       "75%        20.130000    9552.000000  \n",
       "max     11111.030000  173357.000000  "
      ]
     },
     "execution_count": 14,
     "metadata": {},
     "output_type": "execute_result"
    }
   ],
   "source": [
    "purchase_price.describe()"
   ]
  },
  {
   "cell_type": "code",
   "execution_count": 15,
   "id": "9b7ab5bb",
   "metadata": {},
   "outputs": [
    {
     "data": {
      "text/html": [
       "<div>\n",
       "<style scoped>\n",
       "    .dataframe tbody tr th:only-of-type {\n",
       "        vertical-align: middle;\n",
       "    }\n",
       "\n",
       "    .dataframe tbody tr th {\n",
       "        vertical-align: top;\n",
       "    }\n",
       "\n",
       "    .dataframe thead th {\n",
       "        text-align: right;\n",
       "    }\n",
       "</style>\n",
       "<table border=\"1\" class=\"dataframe\">\n",
       "  <thead>\n",
       "    <tr style=\"text-align: right;\">\n",
       "      <th></th>\n",
       "      <th>Brand</th>\n",
       "      <th>Description</th>\n",
       "      <th>Price</th>\n",
       "      <th>Size</th>\n",
       "      <th>Volume</th>\n",
       "      <th>Classification</th>\n",
       "      <th>PurchasePrice</th>\n",
       "      <th>VendorNumber</th>\n",
       "      <th>VendorName</th>\n",
       "    </tr>\n",
       "  </thead>\n",
       "  <tbody>\n",
       "    <tr>\n",
       "      <th>7915</th>\n",
       "      <td>4202</td>\n",
       "      <td>NaN</td>\n",
       "      <td>0.0</td>\n",
       "      <td>NaN</td>\n",
       "      <td>750.0</td>\n",
       "      <td>1</td>\n",
       "      <td>11.19</td>\n",
       "      <td>480</td>\n",
       "      <td>BACARDI USA INC</td>\n",
       "    </tr>\n",
       "  </tbody>\n",
       "</table>\n",
       "</div>"
      ],
      "text/plain": [
       "      Brand Description  Price Size  Volume  Classification  PurchasePrice  \\\n",
       "7915   4202         NaN    0.0  NaN   750.0               1          11.19   \n",
       "\n",
       "      VendorNumber                   VendorName  \n",
       "7915           480  BACARDI USA INC              "
      ]
     },
     "execution_count": 15,
     "metadata": {},
     "output_type": "execute_result"
    }
   ],
   "source": [
    "# checking Null values\n",
    "purchase_price[purchase_price.isnull().any(axis=1)]"
   ]
  },
  {
   "cell_type": "code",
   "execution_count": 16,
   "id": "79d5f363",
   "metadata": {},
   "outputs": [
    {
     "data": {
      "text/html": [
       "<div>\n",
       "<style scoped>\n",
       "    .dataframe tbody tr th:only-of-type {\n",
       "        vertical-align: middle;\n",
       "    }\n",
       "\n",
       "    .dataframe tbody tr th {\n",
       "        vertical-align: top;\n",
       "    }\n",
       "\n",
       "    .dataframe thead th {\n",
       "        text-align: right;\n",
       "    }\n",
       "</style>\n",
       "<table border=\"1\" class=\"dataframe\">\n",
       "  <thead>\n",
       "    <tr style=\"text-align: right;\">\n",
       "      <th></th>\n",
       "      <th>InventoryId</th>\n",
       "      <th>Store</th>\n",
       "      <th>City</th>\n",
       "      <th>Brand</th>\n",
       "      <th>Description</th>\n",
       "      <th>Size</th>\n",
       "      <th>onHand</th>\n",
       "      <th>Price</th>\n",
       "      <th>startDate</th>\n",
       "    </tr>\n",
       "  </thead>\n",
       "  <tbody>\n",
       "  </tbody>\n",
       "</table>\n",
       "</div>"
      ],
      "text/plain": [
       "Empty DataFrame\n",
       "Columns: [InventoryId, Store, City, Brand, Description, Size, onHand, Price, startDate]\n",
       "Index: []"
      ]
     },
     "execution_count": 16,
     "metadata": {},
     "output_type": "execute_result"
    }
   ],
   "source": [
    "# checking for any Brand = 4202 in beg_inventory \n",
    "beg_inv[beg_inv['Brand']==4202]\n",
    "\n",
    "#AS there are no brand 4202 in inventory so dropping this value"
   ]
  },
  {
   "cell_type": "code",
   "execution_count": 17,
   "id": "1d3d14c6",
   "metadata": {},
   "outputs": [
    {
     "data": {
      "text/html": [
       "<div>\n",
       "<style scoped>\n",
       "    .dataframe tbody tr th:only-of-type {\n",
       "        vertical-align: middle;\n",
       "    }\n",
       "\n",
       "    .dataframe tbody tr th {\n",
       "        vertical-align: top;\n",
       "    }\n",
       "\n",
       "    .dataframe thead th {\n",
       "        text-align: right;\n",
       "    }\n",
       "</style>\n",
       "<table border=\"1\" class=\"dataframe\">\n",
       "  <thead>\n",
       "    <tr style=\"text-align: right;\">\n",
       "      <th></th>\n",
       "      <th>Brand</th>\n",
       "      <th>Description</th>\n",
       "      <th>Price</th>\n",
       "      <th>Size</th>\n",
       "      <th>Volume</th>\n",
       "      <th>Classification</th>\n",
       "      <th>PurchasePrice</th>\n",
       "      <th>VendorNumber</th>\n",
       "      <th>VendorName</th>\n",
       "    </tr>\n",
       "  </thead>\n",
       "  <tbody>\n",
       "    <tr>\n",
       "      <th>7915</th>\n",
       "      <td>4202</td>\n",
       "      <td>NaN</td>\n",
       "      <td>0.0</td>\n",
       "      <td>NaN</td>\n",
       "      <td>750.0</td>\n",
       "      <td>1</td>\n",
       "      <td>11.19</td>\n",
       "      <td>480</td>\n",
       "      <td>BACARDI USA INC</td>\n",
       "    </tr>\n",
       "  </tbody>\n",
       "</table>\n",
       "</div>"
      ],
      "text/plain": [
       "      Brand Description  Price Size  Volume  Classification  PurchasePrice  \\\n",
       "7915   4202         NaN    0.0  NaN   750.0               1          11.19   \n",
       "\n",
       "      VendorNumber                   VendorName  \n",
       "7915           480  BACARDI USA INC              "
      ]
     },
     "execution_count": 17,
     "metadata": {},
     "output_type": "execute_result"
    }
   ],
   "source": [
    "# Dropping Null values\n",
    "purchase_price[purchase_price.isnull().any(axis=1)]"
   ]
  },
  {
   "cell_type": "code",
   "execution_count": 18,
   "id": "009963b7",
   "metadata": {},
   "outputs": [
    {
     "data": {
      "text/plain": [
       "np.int64(0)"
      ]
     },
     "execution_count": 18,
     "metadata": {},
     "output_type": "execute_result"
    }
   ],
   "source": [
    "# checking for duplicates\n",
    "purchase_price.duplicated().sum()"
   ]
  },
  {
   "cell_type": "code",
   "execution_count": null,
   "id": "2ff40c19",
   "metadata": {},
   "outputs": [],
   "source": [
    "# dropping unwanted columns\n",
    "purchase_price = purchase_price.drop(columns=['LOG_PRICE','LOG_VOLUME','LOG_PURCHASEPRICE'])"
   ]
  },
  {
   "cell_type": "code",
   "execution_count": 19,
   "id": "e339ad5c",
   "metadata": {},
   "outputs": [
    {
     "data": {
      "image/png": "[encoded data removed]",
      "text/plain": [
       "<Figure size 1200x800 with 2 Axes>"
      ]
     },
     "metadata": {},
     "output_type": "display_data"
    },
    {
     "data": {
      "image/png": "[encoded data removed]",
      "text/plain": [
       "<Figure size 1200x500 with 1 Axes>"
      ]
     },
     "metadata": {},
     "output_type": "display_data"
    },
    {
     "name": "stdout",
     "output_type": "stream",
     "text": [
      "0.25     10.99\n",
      "0.50     15.99\n",
      "0.75     29.99\n",
      "0.95     95.99\n",
      "0.99    349.99\n",
      "Name: log_Price, dtype: float64\n"
     ]
    },
    {
     "data": {
      "text/plain": [
       "<Figure size 640x480 with 0 Axes>"
      ]
     },
     "metadata": {},
     "output_type": "display_data"
    },
    {
     "data": {
      "image/png": "[encoded data removed]",
      "text/plain": [
       "<Figure size 1200x800 with 2 Axes>"
      ]
     },
     "metadata": {},
     "output_type": "display_data"
    },
    {
     "data": {
      "image/png": "[encoded data removed]",
      "text/plain": [
       "<Figure size 1200x500 with 1 Axes>"
      ]
     },
     "metadata": {},
     "output_type": "display_data"
    },
    {
     "name": "stdout",
     "output_type": "stream",
     "text": [
      "0.25     750.0\n",
      "0.50     750.0\n",
      "0.75     750.0\n",
      "0.95    1500.0\n",
      "0.99    3000.0\n",
      "Name: log_Volume, dtype: float64\n"
     ]
    },
    {
     "data": {
      "text/plain": [
       "<Figure size 640x480 with 0 Axes>"
      ]
     },
     "metadata": {},
     "output_type": "display_data"
    },
    {
     "data": {
      "image/png": "[encoded data removed]",
      "text/plain": [
       "<Figure size 1200x800 with 2 Axes>"
      ]
     },
     "metadata": {},
     "output_type": "display_data"
    },
    {
     "data": {
      "image/png": "[encoded data removed]",
      "text/plain": [
       "<Figure size 1200x500 with 1 Axes>"
      ]
     },
     "metadata": {},
     "output_type": "display_data"
    },
    {
     "name": "stdout",
     "output_type": "stream",
     "text": [
      "0.25      6.890000\n",
      "0.50     10.650000\n",
      "0.75     20.130000\n",
      "0.95     64.930000\n",
      "0.99    232.215389\n",
      "Name: log_PurchasePrice, dtype: float64\n"
     ]
    },
    {
     "data": {
      "text/plain": [
       "<Figure size 640x480 with 0 Axes>"
      ]
     },
     "metadata": {},
     "output_type": "display_data"
    }
   ],
   "source": [
    "# Data Dsitribution\n",
    "\n",
    "cont_cols = ['Price','Volume','PurchasePrice']\n",
    "\n",
    "for col in cont_cols:\n",
    "\n",
    "    plt.figure(figsize=[12,8])\n",
    "\n",
    "    # plotting histogram with KDE\n",
    "    plt.subplot(1,2,1)\n",
    "    if col=='Volume':\n",
    "        plt.xlim(0, 10000)\n",
    "    sb.histplot(purchase_price[col], kde=True, bins=20)\n",
    "    plt.title(f'{col} Distribution(Histogram)')\n",
    "    if col=='Volume':\n",
    "        plt.xticks(rotation=90)\n",
    "\n",
    "    # plotting Boxplt\n",
    "    plt.subplot(1,2,2)\n",
    "    sb.boxplot(purchase_price[col])\n",
    "    plt.title(f'{col} Distribution(Boxplot)')\n",
    "\n",
    "    purchase_price[f'log_{col}']= np.log1p(purchase_price[col])\n",
    "\n",
    "    plt.figure(figsize=(12,5))\n",
    "    sb.histplot(purchase_price[f'log_{col}'], kde=True)\n",
    "    plt.title(f'Log-Transformed {col} Distribution')\n",
    "    plt.show()\n",
    "    print(np.expm1(purchase_price[f'log_{col}'].quantile([0.25, 0.5, 0.75, 0.95, 0.99])))\n",
    "\n",
    "    plt.tight_layout()\n",
    "    plt.show()\n"
   ]
  },
  {
   "cell_type": "markdown",
   "id": "94aa8197",
   "metadata": {},
   "source": [
    "Percentile Interpretation (Raw Prices)\n",
    "Percentile\tPrice ($)\tInterpretation\n",
    "25% (Q1)\t10.99\t25% of items are priced below $10.99\n",
    "50% (Median)\t15.99\tHalf of the items are priced below $15.99\n",
    "75% (Q3)\t29.99\t75% are priced below $29.99\n",
    "95%\t95.99\t95% are below $95.99 — the remaining 5% are high-priced\n",
    "99%\t349.99\t99% are below $349.99 — top 1% are extreme outliers\n",
    "\n",
    " Histogram & Boxplot (First Image)\n",
    "Shows that most prices are under $30, supporting what we see in the percentiles up to the 75th.\n",
    "\n",
    "The boxplot's whiskers likely end around $95.99, and everything beyond that (top 5%) appears as outliers — confirming the many dots above the whiskers.\n",
    "\n",
    "That 1% of items priced over $349.99 are inflating the histogram’s right tail and dominating the scale — making lower prices hard to see.\n",
    "\n",
    "2. Log Histogram (Second Image)\n",
    "By applying log10(price), those high values (like 349.99+) are compressed and fall within a much narrower range.\n",
    "\n",
    "This lets you see more detail in the majority range (under $30), which dominates the data.\n",
    "                                                 "
   ]
  },
  {
   "cell_type": "markdown",
   "id": "ab15053f",
   "metadata": {},
   "source": [
    "# Beg inventory"
   ]
  },
  {
   "cell_type": "code",
   "execution_count": 20,
   "id": "3bf6861a",
   "metadata": {},
   "outputs": [
    {
     "data": {
      "text/html": [
       "<div>\n",
       "<style scoped>\n",
       "    .dataframe tbody tr th:only-of-type {\n",
       "        vertical-align: middle;\n",
       "    }\n",
       "\n",
       "    .dataframe tbody tr th {\n",
       "        vertical-align: top;\n",
       "    }\n",
       "\n",
       "    .dataframe thead th {\n",
       "        text-align: right;\n",
       "    }\n",
       "</style>\n",
       "<table border=\"1\" class=\"dataframe\">\n",
       "  <thead>\n",
       "    <tr style=\"text-align: right;\">\n",
       "      <th></th>\n",
       "      <th>InventoryId</th>\n",
       "      <th>Store</th>\n",
       "      <th>City</th>\n",
       "      <th>Brand</th>\n",
       "      <th>Description</th>\n",
       "      <th>Size</th>\n",
       "      <th>onHand</th>\n",
       "      <th>Price</th>\n",
       "      <th>startDate</th>\n",
       "    </tr>\n",
       "  </thead>\n",
       "  <tbody>\n",
       "    <tr>\n",
       "      <th>0</th>\n",
       "      <td>1_HARDERSFIELD_58</td>\n",
       "      <td>1</td>\n",
       "      <td>HARDERSFIELD</td>\n",
       "      <td>58</td>\n",
       "      <td>Gekkeikan Black &amp; Gold Sake</td>\n",
       "      <td>750mL</td>\n",
       "      <td>8</td>\n",
       "      <td>12.99</td>\n",
       "      <td>2016-01-01</td>\n",
       "    </tr>\n",
       "    <tr>\n",
       "      <th>1</th>\n",
       "      <td>1_HARDERSFIELD_60</td>\n",
       "      <td>1</td>\n",
       "      <td>HARDERSFIELD</td>\n",
       "      <td>60</td>\n",
       "      <td>Canadian Club 1858 VAP</td>\n",
       "      <td>750mL</td>\n",
       "      <td>7</td>\n",
       "      <td>10.99</td>\n",
       "      <td>2016-01-01</td>\n",
       "    </tr>\n",
       "    <tr>\n",
       "      <th>2</th>\n",
       "      <td>1_HARDERSFIELD_62</td>\n",
       "      <td>1</td>\n",
       "      <td>HARDERSFIELD</td>\n",
       "      <td>62</td>\n",
       "      <td>Herradura Silver Tequila</td>\n",
       "      <td>750mL</td>\n",
       "      <td>6</td>\n",
       "      <td>36.99</td>\n",
       "      <td>2016-01-01</td>\n",
       "    </tr>\n",
       "    <tr>\n",
       "      <th>3</th>\n",
       "      <td>1_HARDERSFIELD_63</td>\n",
       "      <td>1</td>\n",
       "      <td>HARDERSFIELD</td>\n",
       "      <td>63</td>\n",
       "      <td>Herradura Reposado Tequila</td>\n",
       "      <td>750mL</td>\n",
       "      <td>3</td>\n",
       "      <td>38.99</td>\n",
       "      <td>2016-01-01</td>\n",
       "    </tr>\n",
       "    <tr>\n",
       "      <th>4</th>\n",
       "      <td>1_HARDERSFIELD_72</td>\n",
       "      <td>1</td>\n",
       "      <td>HARDERSFIELD</td>\n",
       "      <td>72</td>\n",
       "      <td>No. 3 London Dry Gin</td>\n",
       "      <td>750mL</td>\n",
       "      <td>6</td>\n",
       "      <td>34.99</td>\n",
       "      <td>2016-01-01</td>\n",
       "    </tr>\n",
       "  </tbody>\n",
       "</table>\n",
       "</div>"
      ],
      "text/plain": [
       "         InventoryId  Store          City  Brand                  Description  \\\n",
       "0  1_HARDERSFIELD_58      1  HARDERSFIELD     58  Gekkeikan Black & Gold Sake   \n",
       "1  1_HARDERSFIELD_60      1  HARDERSFIELD     60       Canadian Club 1858 VAP   \n",
       "2  1_HARDERSFIELD_62      1  HARDERSFIELD     62     Herradura Silver Tequila   \n",
       "3  1_HARDERSFIELD_63      1  HARDERSFIELD     63   Herradura Reposado Tequila   \n",
       "4  1_HARDERSFIELD_72      1  HARDERSFIELD     72         No. 3 London Dry Gin   \n",
       "\n",
       "    Size  onHand  Price   startDate  \n",
       "0  750mL       8  12.99  2016-01-01  \n",
       "1  750mL       7  10.99  2016-01-01  \n",
       "2  750mL       6  36.99  2016-01-01  \n",
       "3  750mL       3  38.99  2016-01-01  \n",
       "4  750mL       6  34.99  2016-01-01  "
      ]
     },
     "execution_count": 20,
     "metadata": {},
     "output_type": "execute_result"
    }
   ],
   "source": [
    "beg_inv.head()"
   ]
  },
  {
   "cell_type": "code",
   "execution_count": 21,
   "id": "607d9760",
   "metadata": {},
   "outputs": [
    {
     "name": "stdout",
     "output_type": "stream",
     "text": [
      "<class 'pandas.core.frame.DataFrame'>\n",
      "RangeIndex: 206529 entries, 0 to 206528\n",
      "Data columns (total 9 columns):\n",
      " #   Column       Non-Null Count   Dtype  \n",
      "---  ------       --------------   -----  \n",
      " 0   InventoryId  206529 non-null  object \n",
      " 1   Store        206529 non-null  int64  \n",
      " 2   City         206529 non-null  object \n",
      " 3   Brand        206529 non-null  int64  \n",
      " 4   Description  206529 non-null  object \n",
      " 5   Size         206529 non-null  object \n",
      " 6   onHand       206529 non-null  int64  \n",
      " 7   Price        206529 non-null  float64\n",
      " 8   startDate    206529 non-null  object \n",
      "dtypes: float64(1), int64(3), object(5)\n",
      "memory usage: 14.2+ MB\n"
     ]
    }
   ],
   "source": [
    "beg_inv.info()"
   ]
  },
  {
   "cell_type": "code",
   "execution_count": 22,
   "id": "dc94bc82",
   "metadata": {},
   "outputs": [
    {
     "data": {
      "text/plain": [
       "InventoryId    0\n",
       "Store          0\n",
       "City           0\n",
       "Brand          0\n",
       "Description    0\n",
       "Size           0\n",
       "onHand         0\n",
       "Price          0\n",
       "startDate      0\n",
       "dtype: int64"
      ]
     },
     "execution_count": 22,
     "metadata": {},
     "output_type": "execute_result"
    }
   ],
   "source": [
    "# checking Null values\n",
    "beg_inv.isnull().sum().sort_values(ascending=True)"
   ]
  },
  {
   "cell_type": "code",
   "execution_count": 23,
   "id": "cddbb991",
   "metadata": {},
   "outputs": [
    {
     "data": {
      "text/plain": [
       "np.int64(0)"
      ]
     },
     "execution_count": 23,
     "metadata": {},
     "output_type": "execute_result"
    }
   ],
   "source": [
    "# checking duplicate values\n",
    "beg_inv.duplicated().sum()"
   ]
  },
  {
   "cell_type": "code",
   "execution_count": 24,
   "id": "e9d1890c",
   "metadata": {},
   "outputs": [
    {
     "name": "stdout",
     "output_type": "stream",
     "text": [
      "4219275\n"
     ]
    }
   ],
   "source": [
    "# Total Inventory Count\n",
    "print(beg_inv['onHand'].sum())"
   ]
  },
  {
   "cell_type": "code",
   "execution_count": 25,
   "id": "0907bdf4",
   "metadata": {},
   "outputs": [
    {
     "data": {
      "text/plain": [
       "array(['750mL', 'Liter', '1.75L', '50mL', '375mL', '50mL 4 Pk',\n",
       "       '375mL 2 Pk', '750mL 3 Pk', '375mL 3 Pk', '750mL + 3/',\n",
       "       '200mL 3 Pk', '50mL 3 Pk', '100mL 4 Pk', '100mL', '50mL 5 Pk',\n",
       "       '200mL 4 Pk', '250mL 4 Pk', '750mL 2 Pk', '200mL', '3/100mL',\n",
       "       '1.5L', '5L', '4L', '187mL 4 Pk', '3L', '5.0 Oz', '187mL', '500mL',\n",
       "       '187mL 3 Pk', '300mL', '50mL 12 Pk', '330mL', '250mL', '18L',\n",
       "       '750mL + 2/', '180mL', '720mL', '22.0 Oz', '6L', '20L',\n",
       "       '750mL + 4/'], dtype=object)"
      ]
     },
     "execution_count": 25,
     "metadata": {},
     "output_type": "execute_result"
    }
   ],
   "source": [
    "beg_inv['Size'].unique()"
   ]
  },
  {
   "cell_type": "code",
   "execution_count": 26,
   "id": "3119e6e1",
   "metadata": {},
   "outputs": [],
   "source": [
    "# foratting 'Size' Column\n",
    "beg_inv['Size'] = beg_inv['Size'].replace('Liter','1L')\n",
    "beg_inv['Size'] = beg_inv['Size'].replace('750mL + 3/','750mL 3 Pk')\n",
    "beg_inv['Size'] = beg_inv['Size'].replace('750mL + 2/','750mL 2 Pk')\n",
    "beg_inv['Size'] = beg_inv['Size'].replace('3/100mL','100mL 3 Pk')\n",
    "beg_inv['Size'] = beg_inv['Size'].replace('750mL + 1/','750mL')\n",
    "beg_inv['Size'] = beg_inv['Size'].replace('750mL + 4/','750mL 4 Pk')\n"
   ]
  },
  {
   "cell_type": "code",
   "execution_count": 27,
   "id": "a7c3080d",
   "metadata": {},
   "outputs": [
    {
     "data": {
      "text/plain": [
       "array(['750mL', '1L', '1.75L', '50mL', '375mL', '50mL 4 Pk', '375mL 2 Pk',\n",
       "       '750mL 3 Pk', '375mL 3 Pk', '200mL 3 Pk', '50mL 3 Pk',\n",
       "       '100mL 4 Pk', '100mL', '50mL 5 Pk', '200mL 4 Pk', '250mL 4 Pk',\n",
       "       '750mL 2 Pk', '200mL', '100mL 3 Pk', '1.5L', '5L', '4L',\n",
       "       '187mL 4 Pk', '3L', '5.0 Oz', '187mL', '500mL', '187mL 3 Pk',\n",
       "       '300mL', '50mL 12 Pk', '330mL', '250mL', '18L', '180mL', '720mL',\n",
       "       '22.0 Oz', '6L', '20L', '750mL 4 Pk'], dtype=object)"
      ]
     },
     "execution_count": 27,
     "metadata": {},
     "output_type": "execute_result"
    }
   ],
   "source": [
    "beg_inv['Size'].unique()"
   ]
  },
  {
   "cell_type": "code",
   "execution_count": 28,
   "id": "1eb99fd3",
   "metadata": {},
   "outputs": [],
   "source": [
    "# creating new column pack quantity\n",
    "\n",
    "beg_inv['pack_count'] = beg_inv['Size'].str.extract(r'(\\d+)\\s*Pk')  # get number before \"Pk\"\n",
    "beg_inv['pack_count'] = beg_inv['pack_count'].fillna(1).astype(int)"
   ]
  },
  {
   "cell_type": "code",
   "execution_count": 110,
   "id": "37d17625",
   "metadata": {},
   "outputs": [],
   "source": [
    "beg_inv = beg_inv.drop(columns='PACK_COUNT')"
   ]
  },
  {
   "cell_type": "markdown",
   "id": "ade99458",
   "metadata": {},
   "source": [
    "# End Inventory"
   ]
  },
  {
   "cell_type": "code",
   "execution_count": 29,
   "id": "a883acb2",
   "metadata": {},
   "outputs": [
    {
     "data": {
      "text/html": [
       "<div>\n",
       "<style scoped>\n",
       "    .dataframe tbody tr th:only-of-type {\n",
       "        vertical-align: middle;\n",
       "    }\n",
       "\n",
       "    .dataframe tbody tr th {\n",
       "        vertical-align: top;\n",
       "    }\n",
       "\n",
       "    .dataframe thead th {\n",
       "        text-align: right;\n",
       "    }\n",
       "</style>\n",
       "<table border=\"1\" class=\"dataframe\">\n",
       "  <thead>\n",
       "    <tr style=\"text-align: right;\">\n",
       "      <th></th>\n",
       "      <th>InventoryId</th>\n",
       "      <th>Store</th>\n",
       "      <th>City</th>\n",
       "      <th>Brand</th>\n",
       "      <th>Description</th>\n",
       "      <th>Size</th>\n",
       "      <th>onHand</th>\n",
       "      <th>Price</th>\n",
       "      <th>endDate</th>\n",
       "    </tr>\n",
       "  </thead>\n",
       "  <tbody>\n",
       "    <tr>\n",
       "      <th>0</th>\n",
       "      <td>1_HARDERSFIELD_58</td>\n",
       "      <td>1</td>\n",
       "      <td>HARDERSFIELD</td>\n",
       "      <td>58</td>\n",
       "      <td>Gekkeikan Black &amp; Gold Sake</td>\n",
       "      <td>750mL</td>\n",
       "      <td>11</td>\n",
       "      <td>12.99</td>\n",
       "      <td>2016-12-31</td>\n",
       "    </tr>\n",
       "    <tr>\n",
       "      <th>1</th>\n",
       "      <td>1_HARDERSFIELD_62</td>\n",
       "      <td>1</td>\n",
       "      <td>HARDERSFIELD</td>\n",
       "      <td>62</td>\n",
       "      <td>Herradura Silver Tequila</td>\n",
       "      <td>750mL</td>\n",
       "      <td>7</td>\n",
       "      <td>36.99</td>\n",
       "      <td>2016-12-31</td>\n",
       "    </tr>\n",
       "    <tr>\n",
       "      <th>2</th>\n",
       "      <td>1_HARDERSFIELD_63</td>\n",
       "      <td>1</td>\n",
       "      <td>HARDERSFIELD</td>\n",
       "      <td>63</td>\n",
       "      <td>Herradura Reposado Tequila</td>\n",
       "      <td>750mL</td>\n",
       "      <td>7</td>\n",
       "      <td>38.99</td>\n",
       "      <td>2016-12-31</td>\n",
       "    </tr>\n",
       "    <tr>\n",
       "      <th>3</th>\n",
       "      <td>1_HARDERSFIELD_72</td>\n",
       "      <td>1</td>\n",
       "      <td>HARDERSFIELD</td>\n",
       "      <td>72</td>\n",
       "      <td>No. 3 London Dry Gin</td>\n",
       "      <td>750mL</td>\n",
       "      <td>4</td>\n",
       "      <td>34.99</td>\n",
       "      <td>2016-12-31</td>\n",
       "    </tr>\n",
       "    <tr>\n",
       "      <th>4</th>\n",
       "      <td>1_HARDERSFIELD_75</td>\n",
       "      <td>1</td>\n",
       "      <td>HARDERSFIELD</td>\n",
       "      <td>75</td>\n",
       "      <td>Three Olives Tomato Vodka</td>\n",
       "      <td>750mL</td>\n",
       "      <td>7</td>\n",
       "      <td>14.99</td>\n",
       "      <td>2016-12-31</td>\n",
       "    </tr>\n",
       "  </tbody>\n",
       "</table>\n",
       "</div>"
      ],
      "text/plain": [
       "         InventoryId  Store          City  Brand                  Description  \\\n",
       "0  1_HARDERSFIELD_58      1  HARDERSFIELD     58  Gekkeikan Black & Gold Sake   \n",
       "1  1_HARDERSFIELD_62      1  HARDERSFIELD     62     Herradura Silver Tequila   \n",
       "2  1_HARDERSFIELD_63      1  HARDERSFIELD     63   Herradura Reposado Tequila   \n",
       "3  1_HARDERSFIELD_72      1  HARDERSFIELD     72         No. 3 London Dry Gin   \n",
       "4  1_HARDERSFIELD_75      1  HARDERSFIELD     75    Three Olives Tomato Vodka   \n",
       "\n",
       "    Size  onHand  Price     endDate  \n",
       "0  750mL      11  12.99  2016-12-31  \n",
       "1  750mL       7  36.99  2016-12-31  \n",
       "2  750mL       7  38.99  2016-12-31  \n",
       "3  750mL       4  34.99  2016-12-31  \n",
       "4  750mL       7  14.99  2016-12-31  "
      ]
     },
     "execution_count": 29,
     "metadata": {},
     "output_type": "execute_result"
    }
   ],
   "source": [
    "end_inv.head()"
   ]
  },
  {
   "cell_type": "code",
   "execution_count": 30,
   "id": "9981d8e8",
   "metadata": {},
   "outputs": [
    {
     "name": "stdout",
     "output_type": "stream",
     "text": [
      "<class 'pandas.core.frame.DataFrame'>\n",
      "RangeIndex: 224489 entries, 0 to 224488\n",
      "Data columns (total 9 columns):\n",
      " #   Column       Non-Null Count   Dtype  \n",
      "---  ------       --------------   -----  \n",
      " 0   InventoryId  224489 non-null  object \n",
      " 1   Store        224489 non-null  int64  \n",
      " 2   City         223205 non-null  object \n",
      " 3   Brand        224489 non-null  int64  \n",
      " 4   Description  224489 non-null  object \n",
      " 5   Size         224489 non-null  object \n",
      " 6   onHand       224489 non-null  int64  \n",
      " 7   Price        224489 non-null  float64\n",
      " 8   endDate      224489 non-null  object \n",
      "dtypes: float64(1), int64(3), object(5)\n",
      "memory usage: 15.4+ MB\n"
     ]
    }
   ],
   "source": [
    "end_inv.info()"
   ]
  },
  {
   "cell_type": "code",
   "execution_count": 31,
   "id": "bcd53a90",
   "metadata": {},
   "outputs": [
    {
     "data": {
      "text/plain": [
       "InventoryId       0\n",
       "Store             0\n",
       "Brand             0\n",
       "Description       0\n",
       "onHand            0\n",
       "Size              0\n",
       "Price             0\n",
       "endDate           0\n",
       "City           1284\n",
       "dtype: int64"
      ]
     },
     "execution_count": 31,
     "metadata": {},
     "output_type": "execute_result"
    }
   ],
   "source": [
    "# checking Null values\n",
    "end_inv.isnull().sum().sort_values(ascending=True)"
   ]
  },
  {
   "cell_type": "markdown",
   "id": "e25ec025",
   "metadata": {},
   "source": [
    "Handling Null Values"
   ]
  },
  {
   "cell_type": "code",
   "execution_count": 32,
   "id": "c1c3086d",
   "metadata": {},
   "outputs": [
    {
     "data": {
      "text/html": [
       "<div>\n",
       "<style scoped>\n",
       "    .dataframe tbody tr th:only-of-type {\n",
       "        vertical-align: middle;\n",
       "    }\n",
       "\n",
       "    .dataframe tbody tr th {\n",
       "        vertical-align: top;\n",
       "    }\n",
       "\n",
       "    .dataframe thead th {\n",
       "        text-align: right;\n",
       "    }\n",
       "</style>\n",
       "<table border=\"1\" class=\"dataframe\">\n",
       "  <thead>\n",
       "    <tr style=\"text-align: right;\">\n",
       "      <th></th>\n",
       "      <th>InventoryId</th>\n",
       "      <th>Store</th>\n",
       "      <th>City</th>\n",
       "      <th>Brand</th>\n",
       "      <th>Description</th>\n",
       "      <th>Size</th>\n",
       "      <th>onHand</th>\n",
       "      <th>Price</th>\n",
       "      <th>endDate</th>\n",
       "    </tr>\n",
       "  </thead>\n",
       "  <tbody>\n",
       "    <tr>\n",
       "      <th>113895</th>\n",
       "      <td>46__58</td>\n",
       "      <td>46</td>\n",
       "      <td>NaN</td>\n",
       "      <td>58</td>\n",
       "      <td>Gekkeikan Black &amp; Gold Sake</td>\n",
       "      <td>750mL</td>\n",
       "      <td>0</td>\n",
       "      <td>12.99</td>\n",
       "      <td>2016-12-31</td>\n",
       "    </tr>\n",
       "    <tr>\n",
       "      <th>113896</th>\n",
       "      <td>46__62</td>\n",
       "      <td>46</td>\n",
       "      <td>NaN</td>\n",
       "      <td>62</td>\n",
       "      <td>Herradura Silver Tequila</td>\n",
       "      <td>750mL</td>\n",
       "      <td>0</td>\n",
       "      <td>36.99</td>\n",
       "      <td>2016-12-31</td>\n",
       "    </tr>\n",
       "    <tr>\n",
       "      <th>113897</th>\n",
       "      <td>46__63</td>\n",
       "      <td>46</td>\n",
       "      <td>NaN</td>\n",
       "      <td>63</td>\n",
       "      <td>Herradura Reposado Tequila</td>\n",
       "      <td>750mL</td>\n",
       "      <td>0</td>\n",
       "      <td>38.99</td>\n",
       "      <td>2016-12-31</td>\n",
       "    </tr>\n",
       "    <tr>\n",
       "      <th>113898</th>\n",
       "      <td>46__77</td>\n",
       "      <td>46</td>\n",
       "      <td>NaN</td>\n",
       "      <td>77</td>\n",
       "      <td>Three Olives Espresso Vodka</td>\n",
       "      <td>750mL</td>\n",
       "      <td>0</td>\n",
       "      <td>14.99</td>\n",
       "      <td>2016-12-31</td>\n",
       "    </tr>\n",
       "    <tr>\n",
       "      <th>113899</th>\n",
       "      <td>46__106</td>\n",
       "      <td>46</td>\n",
       "      <td>NaN</td>\n",
       "      <td>106</td>\n",
       "      <td>Mr Boston Peach Schnapps</td>\n",
       "      <td>Liter</td>\n",
       "      <td>0</td>\n",
       "      <td>4.49</td>\n",
       "      <td>2016-12-31</td>\n",
       "    </tr>\n",
       "    <tr>\n",
       "      <th>...</th>\n",
       "      <td>...</td>\n",
       "      <td>...</td>\n",
       "      <td>...</td>\n",
       "      <td>...</td>\n",
       "      <td>...</td>\n",
       "      <td>...</td>\n",
       "      <td>...</td>\n",
       "      <td>...</td>\n",
       "      <td>...</td>\n",
       "    </tr>\n",
       "    <tr>\n",
       "      <th>115174</th>\n",
       "      <td>46__46447</td>\n",
       "      <td>46</td>\n",
       "      <td>NaN</td>\n",
       "      <td>46447</td>\n",
       "      <td>Gascon Malbec Mendoza</td>\n",
       "      <td>750mL</td>\n",
       "      <td>0</td>\n",
       "      <td>10.99</td>\n",
       "      <td>2016-12-31</td>\n",
       "    </tr>\n",
       "    <tr>\n",
       "      <th>115175</th>\n",
       "      <td>46__46458</td>\n",
       "      <td>46</td>\n",
       "      <td>NaN</td>\n",
       "      <td>46458</td>\n",
       "      <td>Layer Cake Barosa Shiraz</td>\n",
       "      <td>750mL</td>\n",
       "      <td>0</td>\n",
       "      <td>15.99</td>\n",
       "      <td>2016-12-31</td>\n",
       "    </tr>\n",
       "    <tr>\n",
       "      <th>115176</th>\n",
       "      <td>46__46476</td>\n",
       "      <td>46</td>\n",
       "      <td>NaN</td>\n",
       "      <td>46476</td>\n",
       "      <td>Tilia Malbec Mendoza</td>\n",
       "      <td>750mL</td>\n",
       "      <td>0</td>\n",
       "      <td>9.99</td>\n",
       "      <td>2016-12-31</td>\n",
       "    </tr>\n",
       "    <tr>\n",
       "      <th>115177</th>\n",
       "      <td>46__46764</td>\n",
       "      <td>46</td>\n",
       "      <td>NaN</td>\n",
       "      <td>46764</td>\n",
       "      <td>Clayhouse Adobe Red Paso Rbl</td>\n",
       "      <td>750mL</td>\n",
       "      <td>0</td>\n",
       "      <td>11.99</td>\n",
       "      <td>2016-12-31</td>\n",
       "    </tr>\n",
       "    <tr>\n",
       "      <th>115178</th>\n",
       "      <td>46__46830</td>\n",
       "      <td>46</td>\n",
       "      <td>NaN</td>\n",
       "      <td>46830</td>\n",
       "      <td>Pacific Rim Sweet Rsl</td>\n",
       "      <td>750mL</td>\n",
       "      <td>0</td>\n",
       "      <td>8.99</td>\n",
       "      <td>2016-12-31</td>\n",
       "    </tr>\n",
       "  </tbody>\n",
       "</table>\n",
       "<p>1284 rows × 9 columns</p>\n",
       "</div>"
      ],
      "text/plain": [
       "       InventoryId  Store City  Brand                   Description   Size  \\\n",
       "113895      46__58     46  NaN     58   Gekkeikan Black & Gold Sake  750mL   \n",
       "113896      46__62     46  NaN     62      Herradura Silver Tequila  750mL   \n",
       "113897      46__63     46  NaN     63    Herradura Reposado Tequila  750mL   \n",
       "113898      46__77     46  NaN     77   Three Olives Espresso Vodka  750mL   \n",
       "113899     46__106     46  NaN    106      Mr Boston Peach Schnapps  Liter   \n",
       "...            ...    ...  ...    ...                           ...    ...   \n",
       "115174   46__46447     46  NaN  46447         Gascon Malbec Mendoza  750mL   \n",
       "115175   46__46458     46  NaN  46458      Layer Cake Barosa Shiraz  750mL   \n",
       "115176   46__46476     46  NaN  46476          Tilia Malbec Mendoza  750mL   \n",
       "115177   46__46764     46  NaN  46764  Clayhouse Adobe Red Paso Rbl  750mL   \n",
       "115178   46__46830     46  NaN  46830         Pacific Rim Sweet Rsl  750mL   \n",
       "\n",
       "        onHand  Price     endDate  \n",
       "113895       0  12.99  2016-12-31  \n",
       "113896       0  36.99  2016-12-31  \n",
       "113897       0  38.99  2016-12-31  \n",
       "113898       0  14.99  2016-12-31  \n",
       "113899       0   4.49  2016-12-31  \n",
       "...        ...    ...         ...  \n",
       "115174       0  10.99  2016-12-31  \n",
       "115175       0  15.99  2016-12-31  \n",
       "115176       0   9.99  2016-12-31  \n",
       "115177       0  11.99  2016-12-31  \n",
       "115178       0   8.99  2016-12-31  \n",
       "\n",
       "[1284 rows x 9 columns]"
      ]
     },
     "execution_count": 32,
     "metadata": {},
     "output_type": "execute_result"
    }
   ],
   "source": [
    "end_inv[end_inv.isnull().any(axis=1)]"
   ]
  },
  {
   "cell_type": "code",
   "execution_count": 33,
   "id": "3905402f",
   "metadata": {},
   "outputs": [],
   "source": [
    "# Correcting Inventory_id\n",
    "def fill_nan_city_Inventoryid(row):\n",
    "    if pd.isna(row['City']):\n",
    "        \n",
    "        city_val = beg_inv.loc[beg_inv['Store']==row['Store'],'City']\n",
    "\n",
    "        if not city_val.empty:\n",
    "            city_val = city_val.values[0]\n",
    "        else:\n",
    "            city_val = np.nan\n",
    "\n",
    "        # concatenating inventoryId as string (store_city_brand)\n",
    "        InventoryId = str(row['Store']) + '_' + str(city_val) + '_' + str(row['Brand'])\n",
    "\n",
    "        return InventoryId\n",
    "    else:\n",
    "        return row['InventoryId']\n",
    "    \n",
    "end_inv['InventoryId'] = end_inv.apply(fill_nan_city_Inventoryid,axis=1)"
   ]
  },
  {
   "cell_type": "code",
   "execution_count": 34,
   "id": "cf7f88a4",
   "metadata": {},
   "outputs": [],
   "source": [
    "# Imputing Missing values in 'City' column from beg_inv based on 'Store'\n",
    "def fill_nan_city(row):\n",
    "    if pd.isna(row['City']):\n",
    "        \n",
    "        city = beg_inv[beg_inv['Store']==row['Store']]['City'].values[0]\n",
    "\n",
    "        return city\n",
    "    else:\n",
    "        return row['City']\n",
    "    \n",
    "end_inv['City'] = end_inv.apply(fill_nan_city,axis=1)"
   ]
  },
  {
   "cell_type": "code",
   "execution_count": 35,
   "id": "c5023f12",
   "metadata": {},
   "outputs": [
    {
     "data": {
      "text/plain": [
       "City    0\n",
       "dtype: int64"
      ]
     },
     "execution_count": 35,
     "metadata": {},
     "output_type": "execute_result"
    }
   ],
   "source": [
    "# checking Null values\n",
    "end_inv[['City']].isnull().sum().sort_values(ascending=True)\n"
   ]
  },
  {
   "cell_type": "code",
   "execution_count": 36,
   "id": "abf53683",
   "metadata": {},
   "outputs": [
    {
     "data": {
      "text/html": [
       "<div>\n",
       "<style scoped>\n",
       "    .dataframe tbody tr th:only-of-type {\n",
       "        vertical-align: middle;\n",
       "    }\n",
       "\n",
       "    .dataframe tbody tr th {\n",
       "        vertical-align: top;\n",
       "    }\n",
       "\n",
       "    .dataframe thead th {\n",
       "        text-align: right;\n",
       "    }\n",
       "</style>\n",
       "<table border=\"1\" class=\"dataframe\">\n",
       "  <thead>\n",
       "    <tr style=\"text-align: right;\">\n",
       "      <th></th>\n",
       "      <th>InventoryId</th>\n",
       "      <th>Store</th>\n",
       "      <th>City</th>\n",
       "      <th>Brand</th>\n",
       "      <th>Description</th>\n",
       "      <th>Size</th>\n",
       "      <th>onHand</th>\n",
       "      <th>Price</th>\n",
       "      <th>endDate</th>\n",
       "    </tr>\n",
       "  </thead>\n",
       "  <tbody>\n",
       "    <tr>\n",
       "      <th>113895</th>\n",
       "      <td>46_TYWARDREATH_58</td>\n",
       "      <td>46</td>\n",
       "      <td>TYWARDREATH</td>\n",
       "      <td>58</td>\n",
       "      <td>Gekkeikan Black &amp; Gold Sake</td>\n",
       "      <td>750mL</td>\n",
       "      <td>0</td>\n",
       "      <td>12.99</td>\n",
       "      <td>2016-12-31</td>\n",
       "    </tr>\n",
       "    <tr>\n",
       "      <th>113896</th>\n",
       "      <td>46_TYWARDREATH_62</td>\n",
       "      <td>46</td>\n",
       "      <td>TYWARDREATH</td>\n",
       "      <td>62</td>\n",
       "      <td>Herradura Silver Tequila</td>\n",
       "      <td>750mL</td>\n",
       "      <td>0</td>\n",
       "      <td>36.99</td>\n",
       "      <td>2016-12-31</td>\n",
       "    </tr>\n",
       "    <tr>\n",
       "      <th>113897</th>\n",
       "      <td>46_TYWARDREATH_63</td>\n",
       "      <td>46</td>\n",
       "      <td>TYWARDREATH</td>\n",
       "      <td>63</td>\n",
       "      <td>Herradura Reposado Tequila</td>\n",
       "      <td>750mL</td>\n",
       "      <td>0</td>\n",
       "      <td>38.99</td>\n",
       "      <td>2016-12-31</td>\n",
       "    </tr>\n",
       "    <tr>\n",
       "      <th>113898</th>\n",
       "      <td>46_TYWARDREATH_77</td>\n",
       "      <td>46</td>\n",
       "      <td>TYWARDREATH</td>\n",
       "      <td>77</td>\n",
       "      <td>Three Olives Espresso Vodka</td>\n",
       "      <td>750mL</td>\n",
       "      <td>0</td>\n",
       "      <td>14.99</td>\n",
       "      <td>2016-12-31</td>\n",
       "    </tr>\n",
       "    <tr>\n",
       "      <th>113899</th>\n",
       "      <td>46_TYWARDREATH_106</td>\n",
       "      <td>46</td>\n",
       "      <td>TYWARDREATH</td>\n",
       "      <td>106</td>\n",
       "      <td>Mr Boston Peach Schnapps</td>\n",
       "      <td>Liter</td>\n",
       "      <td>0</td>\n",
       "      <td>4.49</td>\n",
       "      <td>2016-12-31</td>\n",
       "    </tr>\n",
       "    <tr>\n",
       "      <th>...</th>\n",
       "      <td>...</td>\n",
       "      <td>...</td>\n",
       "      <td>...</td>\n",
       "      <td>...</td>\n",
       "      <td>...</td>\n",
       "      <td>...</td>\n",
       "      <td>...</td>\n",
       "      <td>...</td>\n",
       "      <td>...</td>\n",
       "    </tr>\n",
       "    <tr>\n",
       "      <th>115174</th>\n",
       "      <td>46_TYWARDREATH_46447</td>\n",
       "      <td>46</td>\n",
       "      <td>TYWARDREATH</td>\n",
       "      <td>46447</td>\n",
       "      <td>Gascon Malbec Mendoza</td>\n",
       "      <td>750mL</td>\n",
       "      <td>0</td>\n",
       "      <td>10.99</td>\n",
       "      <td>2016-12-31</td>\n",
       "    </tr>\n",
       "    <tr>\n",
       "      <th>115175</th>\n",
       "      <td>46_TYWARDREATH_46458</td>\n",
       "      <td>46</td>\n",
       "      <td>TYWARDREATH</td>\n",
       "      <td>46458</td>\n",
       "      <td>Layer Cake Barosa Shiraz</td>\n",
       "      <td>750mL</td>\n",
       "      <td>0</td>\n",
       "      <td>15.99</td>\n",
       "      <td>2016-12-31</td>\n",
       "    </tr>\n",
       "    <tr>\n",
       "      <th>115176</th>\n",
       "      <td>46_TYWARDREATH_46476</td>\n",
       "      <td>46</td>\n",
       "      <td>TYWARDREATH</td>\n",
       "      <td>46476</td>\n",
       "      <td>Tilia Malbec Mendoza</td>\n",
       "      <td>750mL</td>\n",
       "      <td>0</td>\n",
       "      <td>9.99</td>\n",
       "      <td>2016-12-31</td>\n",
       "    </tr>\n",
       "    <tr>\n",
       "      <th>115177</th>\n",
       "      <td>46_TYWARDREATH_46764</td>\n",
       "      <td>46</td>\n",
       "      <td>TYWARDREATH</td>\n",
       "      <td>46764</td>\n",
       "      <td>Clayhouse Adobe Red Paso Rbl</td>\n",
       "      <td>750mL</td>\n",
       "      <td>0</td>\n",
       "      <td>11.99</td>\n",
       "      <td>2016-12-31</td>\n",
       "    </tr>\n",
       "    <tr>\n",
       "      <th>115178</th>\n",
       "      <td>46_TYWARDREATH_46830</td>\n",
       "      <td>46</td>\n",
       "      <td>TYWARDREATH</td>\n",
       "      <td>46830</td>\n",
       "      <td>Pacific Rim Sweet Rsl</td>\n",
       "      <td>750mL</td>\n",
       "      <td>0</td>\n",
       "      <td>8.99</td>\n",
       "      <td>2016-12-31</td>\n",
       "    </tr>\n",
       "  </tbody>\n",
       "</table>\n",
       "<p>1284 rows × 9 columns</p>\n",
       "</div>"
      ],
      "text/plain": [
       "                 InventoryId  Store         City  Brand  \\\n",
       "113895     46_TYWARDREATH_58     46  TYWARDREATH     58   \n",
       "113896     46_TYWARDREATH_62     46  TYWARDREATH     62   \n",
       "113897     46_TYWARDREATH_63     46  TYWARDREATH     63   \n",
       "113898     46_TYWARDREATH_77     46  TYWARDREATH     77   \n",
       "113899    46_TYWARDREATH_106     46  TYWARDREATH    106   \n",
       "...                      ...    ...          ...    ...   \n",
       "115174  46_TYWARDREATH_46447     46  TYWARDREATH  46447   \n",
       "115175  46_TYWARDREATH_46458     46  TYWARDREATH  46458   \n",
       "115176  46_TYWARDREATH_46476     46  TYWARDREATH  46476   \n",
       "115177  46_TYWARDREATH_46764     46  TYWARDREATH  46764   \n",
       "115178  46_TYWARDREATH_46830     46  TYWARDREATH  46830   \n",
       "\n",
       "                         Description   Size  onHand  Price     endDate  \n",
       "113895   Gekkeikan Black & Gold Sake  750mL       0  12.99  2016-12-31  \n",
       "113896      Herradura Silver Tequila  750mL       0  36.99  2016-12-31  \n",
       "113897    Herradura Reposado Tequila  750mL       0  38.99  2016-12-31  \n",
       "113898   Three Olives Espresso Vodka  750mL       0  14.99  2016-12-31  \n",
       "113899      Mr Boston Peach Schnapps  Liter       0   4.49  2016-12-31  \n",
       "...                              ...    ...     ...    ...         ...  \n",
       "115174         Gascon Malbec Mendoza  750mL       0  10.99  2016-12-31  \n",
       "115175      Layer Cake Barosa Shiraz  750mL       0  15.99  2016-12-31  \n",
       "115176          Tilia Malbec Mendoza  750mL       0   9.99  2016-12-31  \n",
       "115177  Clayhouse Adobe Red Paso Rbl  750mL       0  11.99  2016-12-31  \n",
       "115178         Pacific Rim Sweet Rsl  750mL       0   8.99  2016-12-31  \n",
       "\n",
       "[1284 rows x 9 columns]"
      ]
     },
     "execution_count": 36,
     "metadata": {},
     "output_type": "execute_result"
    }
   ],
   "source": [
    "\n",
    "# verifying filled missing values\n",
    "end_inv[end_inv['Store']==46]"
   ]
  },
  {
   "cell_type": "code",
   "execution_count": 37,
   "id": "6a555bea",
   "metadata": {},
   "outputs": [
    {
     "data": {
      "text/plain": [
       "array(['750mL', 'Liter', '750mL + 2/', '1.75L', '50mL', '375mL',\n",
       "       '50mL 4 Pk', '200mL 3 Pk', '50mL 3 Pk', '750mL + 3/', '375mL 2 Pk',\n",
       "       '100mL 4 Pk', '250mL', '100mL', '50mL 5 Pk', '3/100mL',\n",
       "       '200mL 4 Pk', '250mL 4 Pk', '200mL', '1.5L', '5L', '4L',\n",
       "       '187mL 4 Pk', '3L', '5.0 Oz', '187mL 3 Pk', '187mL', '500mL',\n",
       "       '750mL 3 Pk', '400mL', '300mL', '330mL', '18L', '750mL 2 Pk',\n",
       "       '5/2 oz', '720mL', '375mL 3 Pk', '750mL + 1/', '180mL',\n",
       "       '200mL 5 Pk', '6L', '187mL 2 Pk', '750mL 4 Pk', '750mL 6 Pk',\n",
       "       '750mL + 4/', '25.0', '128.0 Gal'], dtype=object)"
      ]
     },
     "execution_count": 37,
     "metadata": {},
     "output_type": "execute_result"
    }
   ],
   "source": [
    "end_inv['Size'].unique()"
   ]
  },
  {
   "cell_type": "code",
   "execution_count": 38,
   "id": "a67b184d",
   "metadata": {},
   "outputs": [],
   "source": [
    "# foratting 'Size' Column\n",
    "end_inv['Size'] = end_inv['Size'].replace('Liter','1L')\n",
    "end_inv['Size'] = end_inv['Size'].replace('750mL + 3/','750mL 3 Pk')\n",
    "end_inv['Size'] = end_inv['Size'].replace('750mL + 2/','750mL 2 Pk')\n",
    "end_inv['Size'] = end_inv['Size'].replace('3/100mL','100mL 3 Pk')\n",
    "end_inv['Size'] = end_inv['Size'].replace('750mL + 1/','750mL')\n",
    "end_inv['Size'] = end_inv['Size'].replace('750mL + 4/','750mL 4 Pk')\n"
   ]
  },
  {
   "cell_type": "code",
   "execution_count": 39,
   "id": "868a0f5a",
   "metadata": {},
   "outputs": [],
   "source": [
    "# creating new column pack quantity\n",
    "\n",
    "end_inv['pack_count'] = end_inv['Size'].str.extract(r'(\\d+)\\s*Pk')  # get number before \"Pk\"\n",
    "end_inv['pack_count'] = end_inv['pack_count'].fillna(1).astype(int)"
   ]
  },
  {
   "cell_type": "code",
   "execution_count": 40,
   "id": "9fdd27b2",
   "metadata": {},
   "outputs": [
    {
     "data": {
      "text/plain": [
       "np.int64(0)"
      ]
     },
     "execution_count": 40,
     "metadata": {},
     "output_type": "execute_result"
    }
   ],
   "source": [
    "# Checking Duplicate entries\n",
    "end_inv.duplicated().sum()"
   ]
  },
  {
   "cell_type": "code",
   "execution_count": 41,
   "id": "0fa4211b",
   "metadata": {},
   "outputs": [
    {
     "name": "stdout",
     "output_type": "stream",
     "text": [
      "4885776\n"
     ]
    }
   ],
   "source": [
    "# end inventory count\n",
    "print(end_inv['onHand'].sum())"
   ]
  },
  {
   "cell_type": "markdown",
   "id": "d048f5d8",
   "metadata": {},
   "source": [
    "# Final Purchase"
   ]
  },
  {
   "cell_type": "code",
   "execution_count": 42,
   "id": "13757bd6",
   "metadata": {},
   "outputs": [
    {
     "data": {
      "text/html": [
       "<div>\n",
       "<style scoped>\n",
       "    .dataframe tbody tr th:only-of-type {\n",
       "        vertical-align: middle;\n",
       "    }\n",
       "\n",
       "    .dataframe tbody tr th {\n",
       "        vertical-align: top;\n",
       "    }\n",
       "\n",
       "    .dataframe thead th {\n",
       "        text-align: right;\n",
       "    }\n",
       "</style>\n",
       "<table border=\"1\" class=\"dataframe\">\n",
       "  <thead>\n",
       "    <tr style=\"text-align: right;\">\n",
       "      <th></th>\n",
       "      <th>InventoryId</th>\n",
       "      <th>Store</th>\n",
       "      <th>Brand</th>\n",
       "      <th>Description</th>\n",
       "      <th>Size</th>\n",
       "      <th>VendorNumber</th>\n",
       "      <th>VendorName</th>\n",
       "      <th>PONumber</th>\n",
       "      <th>PODate</th>\n",
       "      <th>ReceivingDate</th>\n",
       "      <th>InvoiceDate</th>\n",
       "      <th>PayDate</th>\n",
       "      <th>PurchasePrice</th>\n",
       "      <th>Quantity</th>\n",
       "      <th>Dollars</th>\n",
       "      <th>Classification</th>\n",
       "    </tr>\n",
       "  </thead>\n",
       "  <tbody>\n",
       "    <tr>\n",
       "      <th>0</th>\n",
       "      <td>69_MOUNTMEND_8412</td>\n",
       "      <td>69</td>\n",
       "      <td>8412</td>\n",
       "      <td>Tequila Ocho Plata Fresno</td>\n",
       "      <td>750mL</td>\n",
       "      <td>105</td>\n",
       "      <td>ALTAMAR BRANDS LLC</td>\n",
       "      <td>8124</td>\n",
       "      <td>2015-12-21</td>\n",
       "      <td>2016-01-02</td>\n",
       "      <td>2016-01-04</td>\n",
       "      <td>2016-02-16</td>\n",
       "      <td>35.71</td>\n",
       "      <td>6</td>\n",
       "      <td>214.26</td>\n",
       "      <td>1</td>\n",
       "    </tr>\n",
       "    <tr>\n",
       "      <th>1</th>\n",
       "      <td>30_CULCHETH_5255</td>\n",
       "      <td>30</td>\n",
       "      <td>5255</td>\n",
       "      <td>TGI Fridays Ultimte Mudslide</td>\n",
       "      <td>1.75L</td>\n",
       "      <td>4466</td>\n",
       "      <td>AMERICAN VINTAGE BEVERAGE</td>\n",
       "      <td>8137</td>\n",
       "      <td>2015-12-22</td>\n",
       "      <td>2016-01-01</td>\n",
       "      <td>2016-01-07</td>\n",
       "      <td>2016-02-21</td>\n",
       "      <td>9.35</td>\n",
       "      <td>4</td>\n",
       "      <td>37.40</td>\n",
       "      <td>1</td>\n",
       "    </tr>\n",
       "    <tr>\n",
       "      <th>2</th>\n",
       "      <td>34_PITMERDEN_5215</td>\n",
       "      <td>34</td>\n",
       "      <td>5215</td>\n",
       "      <td>TGI Fridays Long Island Iced</td>\n",
       "      <td>1.75L</td>\n",
       "      <td>4466</td>\n",
       "      <td>AMERICAN VINTAGE BEVERAGE</td>\n",
       "      <td>8137</td>\n",
       "      <td>2015-12-22</td>\n",
       "      <td>2016-01-02</td>\n",
       "      <td>2016-01-07</td>\n",
       "      <td>2016-02-21</td>\n",
       "      <td>9.41</td>\n",
       "      <td>5</td>\n",
       "      <td>47.05</td>\n",
       "      <td>1</td>\n",
       "    </tr>\n",
       "    <tr>\n",
       "      <th>3</th>\n",
       "      <td>1_HARDERSFIELD_5255</td>\n",
       "      <td>1</td>\n",
       "      <td>5255</td>\n",
       "      <td>TGI Fridays Ultimte Mudslide</td>\n",
       "      <td>1.75L</td>\n",
       "      <td>4466</td>\n",
       "      <td>AMERICAN VINTAGE BEVERAGE</td>\n",
       "      <td>8137</td>\n",
       "      <td>2015-12-22</td>\n",
       "      <td>2016-01-01</td>\n",
       "      <td>2016-01-07</td>\n",
       "      <td>2016-02-21</td>\n",
       "      <td>9.35</td>\n",
       "      <td>6</td>\n",
       "      <td>56.10</td>\n",
       "      <td>1</td>\n",
       "    </tr>\n",
       "    <tr>\n",
       "      <th>4</th>\n",
       "      <td>76_DONCASTER_2034</td>\n",
       "      <td>76</td>\n",
       "      <td>2034</td>\n",
       "      <td>Glendalough Double Barrel</td>\n",
       "      <td>750mL</td>\n",
       "      <td>388</td>\n",
       "      <td>ATLANTIC IMPORTING COMPANY</td>\n",
       "      <td>8169</td>\n",
       "      <td>2015-12-24</td>\n",
       "      <td>2016-01-02</td>\n",
       "      <td>2016-01-09</td>\n",
       "      <td>2016-02-16</td>\n",
       "      <td>21.32</td>\n",
       "      <td>5</td>\n",
       "      <td>106.60</td>\n",
       "      <td>1</td>\n",
       "    </tr>\n",
       "  </tbody>\n",
       "</table>\n",
       "</div>"
      ],
      "text/plain": [
       "           InventoryId  Store  Brand                   Description   Size  \\\n",
       "0    69_MOUNTMEND_8412     69   8412     Tequila Ocho Plata Fresno  750mL   \n",
       "1     30_CULCHETH_5255     30   5255  TGI Fridays Ultimte Mudslide  1.75L   \n",
       "2    34_PITMERDEN_5215     34   5215  TGI Fridays Long Island Iced  1.75L   \n",
       "3  1_HARDERSFIELD_5255      1   5255  TGI Fridays Ultimte Mudslide  1.75L   \n",
       "4    76_DONCASTER_2034     76   2034     Glendalough Double Barrel  750mL   \n",
       "\n",
       "   VendorNumber                   VendorName  PONumber      PODate  \\\n",
       "0           105  ALTAMAR BRANDS LLC               8124  2015-12-21   \n",
       "1          4466  AMERICAN VINTAGE BEVERAGE        8137  2015-12-22   \n",
       "2          4466  AMERICAN VINTAGE BEVERAGE        8137  2015-12-22   \n",
       "3          4466  AMERICAN VINTAGE BEVERAGE        8137  2015-12-22   \n",
       "4           388  ATLANTIC IMPORTING COMPANY       8169  2015-12-24   \n",
       "\n",
       "  ReceivingDate InvoiceDate     PayDate  PurchasePrice  Quantity  Dollars  \\\n",
       "0    2016-01-02  2016-01-04  2016-02-16          35.71         6   214.26   \n",
       "1    2016-01-01  2016-01-07  2016-02-21           9.35         4    37.40   \n",
       "2    2016-01-02  2016-01-07  2016-02-21           9.41         5    47.05   \n",
       "3    2016-01-01  2016-01-07  2016-02-21           9.35         6    56.10   \n",
       "4    2016-01-02  2016-01-09  2016-02-16          21.32         5   106.60   \n",
       "\n",
       "   Classification  \n",
       "0               1  \n",
       "1               1  \n",
       "2               1  \n",
       "3               1  \n",
       "4               1  "
      ]
     },
     "execution_count": 42,
     "metadata": {},
     "output_type": "execute_result"
    }
   ],
   "source": [
    "final_purchase.head()"
   ]
  },
  {
   "cell_type": "code",
   "execution_count": 43,
   "id": "322b3d40",
   "metadata": {},
   "outputs": [
    {
     "name": "stdout",
     "output_type": "stream",
     "text": [
      "<class 'pandas.core.frame.DataFrame'>\n",
      "RangeIndex: 2372474 entries, 0 to 2372473\n",
      "Data columns (total 16 columns):\n",
      " #   Column          Dtype  \n",
      "---  ------          -----  \n",
      " 0   InventoryId     object \n",
      " 1   Store           int64  \n",
      " 2   Brand           int64  \n",
      " 3   Description     object \n",
      " 4   Size            object \n",
      " 5   VendorNumber    int64  \n",
      " 6   VendorName      object \n",
      " 7   PONumber        int64  \n",
      " 8   PODate          object \n",
      " 9   ReceivingDate   object \n",
      " 10  InvoiceDate     object \n",
      " 11  PayDate         object \n",
      " 12  PurchasePrice   float64\n",
      " 13  Quantity        int64  \n",
      " 14  Dollars         float64\n",
      " 15  Classification  int64  \n",
      "dtypes: float64(2), int64(6), object(8)\n",
      "memory usage: 289.6+ MB\n"
     ]
    }
   ],
   "source": [
    "final_purchase.info()"
   ]
  },
  {
   "cell_type": "code",
   "execution_count": 44,
   "id": "2e79ee5b",
   "metadata": {},
   "outputs": [
    {
     "data": {
      "text/plain": [
       "InventoryId       0\n",
       "Store             0\n",
       "Brand             0\n",
       "Description       0\n",
       "VendorNumber      0\n",
       "VendorName        0\n",
       "PONumber          0\n",
       "PODate            0\n",
       "PurchasePrice     0\n",
       "ReceivingDate     0\n",
       "InvoiceDate       0\n",
       "PayDate           0\n",
       "Dollars           0\n",
       "Quantity          0\n",
       "Classification    0\n",
       "Size              3\n",
       "dtype: int64"
      ]
     },
     "execution_count": 44,
     "metadata": {},
     "output_type": "execute_result"
    }
   ],
   "source": [
    "# checking Null Values\n",
    "final_purchase.isnull().sum().sort_values(ascending=True)"
   ]
  },
  {
   "cell_type": "markdown",
   "id": "c21ac111",
   "metadata": {},
   "source": [
    "Handling Null values"
   ]
  },
  {
   "cell_type": "code",
   "execution_count": 45,
   "id": "15eaeffb",
   "metadata": {},
   "outputs": [
    {
     "data": {
      "text/html": [
       "<div>\n",
       "<style scoped>\n",
       "    .dataframe tbody tr th:only-of-type {\n",
       "        vertical-align: middle;\n",
       "    }\n",
       "\n",
       "    .dataframe tbody tr th {\n",
       "        vertical-align: top;\n",
       "    }\n",
       "\n",
       "    .dataframe thead th {\n",
       "        text-align: right;\n",
       "    }\n",
       "</style>\n",
       "<table border=\"1\" class=\"dataframe\">\n",
       "  <thead>\n",
       "    <tr style=\"text-align: right;\">\n",
       "      <th></th>\n",
       "      <th>InventoryId</th>\n",
       "      <th>Store</th>\n",
       "      <th>Brand</th>\n",
       "      <th>Description</th>\n",
       "      <th>Size</th>\n",
       "      <th>VendorNumber</th>\n",
       "      <th>VendorName</th>\n",
       "      <th>PONumber</th>\n",
       "      <th>PODate</th>\n",
       "      <th>ReceivingDate</th>\n",
       "      <th>InvoiceDate</th>\n",
       "      <th>PayDate</th>\n",
       "      <th>PurchasePrice</th>\n",
       "      <th>Quantity</th>\n",
       "      <th>Dollars</th>\n",
       "      <th>Classification</th>\n",
       "    </tr>\n",
       "  </thead>\n",
       "  <tbody>\n",
       "    <tr>\n",
       "      <th>1109668</th>\n",
       "      <td>34_PITMERDEN_3121</td>\n",
       "      <td>34</td>\n",
       "      <td>3121</td>\n",
       "      <td>Pinnacle Rainbow Sherbet</td>\n",
       "      <td>NaN</td>\n",
       "      <td>12546</td>\n",
       "      <td>JIM BEAM BRANDS COMPANY</td>\n",
       "      <td>10938</td>\n",
       "      <td>2016-06-27</td>\n",
       "      <td>2016-07-04</td>\n",
       "      <td>2016-07-13</td>\n",
       "      <td>2016-08-16</td>\n",
       "      <td>6.93</td>\n",
       "      <td>7</td>\n",
       "      <td>48.51</td>\n",
       "      <td>1</td>\n",
       "    </tr>\n",
       "    <tr>\n",
       "      <th>1112426</th>\n",
       "      <td>34_PITMERDEN_5678</td>\n",
       "      <td>34</td>\n",
       "      <td>5678</td>\n",
       "      <td>Skinnygirl Pina Colada</td>\n",
       "      <td>NaN</td>\n",
       "      <td>12546</td>\n",
       "      <td>JIM BEAM BRANDS COMPANY</td>\n",
       "      <td>10938</td>\n",
       "      <td>2016-06-27</td>\n",
       "      <td>2016-07-09</td>\n",
       "      <td>2016-07-13</td>\n",
       "      <td>2016-08-16</td>\n",
       "      <td>6.93</td>\n",
       "      <td>6</td>\n",
       "      <td>41.58</td>\n",
       "      <td>1</td>\n",
       "    </tr>\n",
       "    <tr>\n",
       "      <th>1116302</th>\n",
       "      <td>39_EASTHALLOW_15365</td>\n",
       "      <td>39</td>\n",
       "      <td>15365</td>\n",
       "      <td>Alabaster 07 Tinta de Toro</td>\n",
       "      <td>NaN</td>\n",
       "      <td>9552</td>\n",
       "      <td>M S WALKER INC</td>\n",
       "      <td>10972</td>\n",
       "      <td>2016-06-29</td>\n",
       "      <td>2016-07-07</td>\n",
       "      <td>2016-07-13</td>\n",
       "      <td>2016-08-21</td>\n",
       "      <td>91.83</td>\n",
       "      <td>1</td>\n",
       "      <td>91.83</td>\n",
       "      <td>2</td>\n",
       "    </tr>\n",
       "  </tbody>\n",
       "</table>\n",
       "</div>"
      ],
      "text/plain": [
       "                 InventoryId  Store  Brand                 Description Size  \\\n",
       "1109668    34_PITMERDEN_3121     34   3121    Pinnacle Rainbow Sherbet  NaN   \n",
       "1112426    34_PITMERDEN_5678     34   5678      Skinnygirl Pina Colada  NaN   \n",
       "1116302  39_EASTHALLOW_15365     39  15365  Alabaster 07 Tinta de Toro  NaN   \n",
       "\n",
       "         VendorNumber                   VendorName  PONumber      PODate  \\\n",
       "1109668         12546  JIM BEAM BRANDS COMPANY         10938  2016-06-27   \n",
       "1112426         12546  JIM BEAM BRANDS COMPANY         10938  2016-06-27   \n",
       "1116302          9552  M S WALKER INC                  10972  2016-06-29   \n",
       "\n",
       "        ReceivingDate InvoiceDate     PayDate  PurchasePrice  Quantity  \\\n",
       "1109668    2016-07-04  2016-07-13  2016-08-16           6.93         7   \n",
       "1112426    2016-07-09  2016-07-13  2016-08-16           6.93         6   \n",
       "1116302    2016-07-07  2016-07-13  2016-08-21          91.83         1   \n",
       "\n",
       "         Dollars  Classification  \n",
       "1109668    48.51               1  \n",
       "1112426    41.58               1  \n",
       "1116302    91.83               2  "
      ]
     },
     "execution_count": 45,
     "metadata": {},
     "output_type": "execute_result"
    }
   ],
   "source": [
    "final_purchase[final_purchase.isnull().any(axis=1)]"
   ]
  },
  {
   "cell_type": "code",
   "execution_count": 46,
   "id": "2226fb5a",
   "metadata": {},
   "outputs": [],
   "source": [
    "# Imputing 'Size' Null values from other tables\n",
    "\n",
    "def fill_nan_size(row):\n",
    "    \n",
    "    if pd.isna(row['Size']):\n",
    "        size = purchase_price[(purchase_price['Brand'] == row['Brand']) & (purchase_price['Description'] == row['Description']) & (purchase_price['PurchasePrice'] == row['PurchasePrice'])]['Size'].values[0]\n",
    "\n",
    "        return size\n",
    "    else:\n",
    "        return row['Size']\n",
    "    \n",
    "final_purchase['Size'] = final_purchase.apply(fill_nan_size, axis=1)"
   ]
  },
  {
   "cell_type": "code",
   "execution_count": 47,
   "id": "97003d06",
   "metadata": {},
   "outputs": [
    {
     "data": {
      "text/plain": [
       "Size    0\n",
       "dtype: int64"
      ]
     },
     "execution_count": 47,
     "metadata": {},
     "output_type": "execute_result"
    }
   ],
   "source": [
    "final_purchase[['Size']].isnull().sum()"
   ]
  },
  {
   "cell_type": "code",
   "execution_count": 48,
   "id": "ff04c159",
   "metadata": {},
   "outputs": [
    {
     "data": {
      "text/plain": [
       "InventoryId                 34_PITMERDEN_3121\n",
       "Store                                      34\n",
       "Brand                                    3121\n",
       "Description          Pinnacle Rainbow Sherbet\n",
       "Size                                    750mL\n",
       "VendorNumber                            12546\n",
       "VendorName        JIM BEAM BRANDS COMPANY    \n",
       "PONumber                                10938\n",
       "PODate                             2016-06-27\n",
       "ReceivingDate                      2016-07-04\n",
       "InvoiceDate                        2016-07-13\n",
       "PayDate                            2016-08-16\n",
       "PurchasePrice                            6.93\n",
       "Quantity                                    7\n",
       "Dollars                                 48.51\n",
       "Classification                              1\n",
       "Name: 1109668, dtype: object"
      ]
     },
     "execution_count": 48,
     "metadata": {},
     "output_type": "execute_result"
    }
   ],
   "source": [
    "final_purchase.iloc[1109668]"
   ]
  },
  {
   "cell_type": "markdown",
   "id": "615da7a0",
   "metadata": {},
   "source": [
    "## Sales"
   ]
  },
  {
   "cell_type": "code",
   "execution_count": 49,
   "id": "b915ece8",
   "metadata": {},
   "outputs": [
    {
     "data": {
      "text/html": [
       "<div>\n",
       "<style scoped>\n",
       "    .dataframe tbody tr th:only-of-type {\n",
       "        vertical-align: middle;\n",
       "    }\n",
       "\n",
       "    .dataframe tbody tr th {\n",
       "        vertical-align: top;\n",
       "    }\n",
       "\n",
       "    .dataframe thead th {\n",
       "        text-align: right;\n",
       "    }\n",
       "</style>\n",
       "<table border=\"1\" class=\"dataframe\">\n",
       "  <thead>\n",
       "    <tr style=\"text-align: right;\">\n",
       "      <th></th>\n",
       "      <th>InventoryId</th>\n",
       "      <th>Store</th>\n",
       "      <th>Brand</th>\n",
       "      <th>Description</th>\n",
       "      <th>Size</th>\n",
       "      <th>SalesQuantity</th>\n",
       "      <th>SalesDollars</th>\n",
       "      <th>SalesPrice</th>\n",
       "      <th>SalesDate</th>\n",
       "      <th>Volume</th>\n",
       "      <th>Classification</th>\n",
       "      <th>ExciseTax</th>\n",
       "      <th>VendorNo</th>\n",
       "      <th>VendorName</th>\n",
       "    </tr>\n",
       "  </thead>\n",
       "  <tbody>\n",
       "    <tr>\n",
       "      <th>0</th>\n",
       "      <td>1_HARDERSFIELD_1004</td>\n",
       "      <td>1</td>\n",
       "      <td>1004</td>\n",
       "      <td>Jim Beam w/2 Rocks Glasses</td>\n",
       "      <td>750mL</td>\n",
       "      <td>1</td>\n",
       "      <td>16.49</td>\n",
       "      <td>16.49</td>\n",
       "      <td>2016-01-01</td>\n",
       "      <td>750.0</td>\n",
       "      <td>1</td>\n",
       "      <td>0.79</td>\n",
       "      <td>12546</td>\n",
       "      <td>JIM BEAM BRANDS COMPANY</td>\n",
       "    </tr>\n",
       "    <tr>\n",
       "      <th>1</th>\n",
       "      <td>1_HARDERSFIELD_1004</td>\n",
       "      <td>1</td>\n",
       "      <td>1004</td>\n",
       "      <td>Jim Beam w/2 Rocks Glasses</td>\n",
       "      <td>750mL</td>\n",
       "      <td>2</td>\n",
       "      <td>32.98</td>\n",
       "      <td>16.49</td>\n",
       "      <td>2016-01-02</td>\n",
       "      <td>750.0</td>\n",
       "      <td>1</td>\n",
       "      <td>1.57</td>\n",
       "      <td>12546</td>\n",
       "      <td>JIM BEAM BRANDS COMPANY</td>\n",
       "    </tr>\n",
       "    <tr>\n",
       "      <th>2</th>\n",
       "      <td>1_HARDERSFIELD_1004</td>\n",
       "      <td>1</td>\n",
       "      <td>1004</td>\n",
       "      <td>Jim Beam w/2 Rocks Glasses</td>\n",
       "      <td>750mL</td>\n",
       "      <td>1</td>\n",
       "      <td>16.49</td>\n",
       "      <td>16.49</td>\n",
       "      <td>2016-01-03</td>\n",
       "      <td>750.0</td>\n",
       "      <td>1</td>\n",
       "      <td>0.79</td>\n",
       "      <td>12546</td>\n",
       "      <td>JIM BEAM BRANDS COMPANY</td>\n",
       "    </tr>\n",
       "    <tr>\n",
       "      <th>3</th>\n",
       "      <td>1_HARDERSFIELD_1004</td>\n",
       "      <td>1</td>\n",
       "      <td>1004</td>\n",
       "      <td>Jim Beam w/2 Rocks Glasses</td>\n",
       "      <td>750mL</td>\n",
       "      <td>1</td>\n",
       "      <td>14.49</td>\n",
       "      <td>14.49</td>\n",
       "      <td>2016-01-08</td>\n",
       "      <td>750.0</td>\n",
       "      <td>1</td>\n",
       "      <td>0.79</td>\n",
       "      <td>12546</td>\n",
       "      <td>JIM BEAM BRANDS COMPANY</td>\n",
       "    </tr>\n",
       "    <tr>\n",
       "      <th>4</th>\n",
       "      <td>1_HARDERSFIELD_1005</td>\n",
       "      <td>1</td>\n",
       "      <td>1005</td>\n",
       "      <td>Maker's Mark Combo Pack</td>\n",
       "      <td>375mL 2 Pk</td>\n",
       "      <td>2</td>\n",
       "      <td>69.98</td>\n",
       "      <td>34.99</td>\n",
       "      <td>2016-01-09</td>\n",
       "      <td>375.0</td>\n",
       "      <td>1</td>\n",
       "      <td>0.79</td>\n",
       "      <td>12546</td>\n",
       "      <td>JIM BEAM BRANDS COMPANY</td>\n",
       "    </tr>\n",
       "  </tbody>\n",
       "</table>\n",
       "</div>"
      ],
      "text/plain": [
       "           InventoryId  Store  Brand                 Description        Size  \\\n",
       "0  1_HARDERSFIELD_1004      1   1004  Jim Beam w/2 Rocks Glasses       750mL   \n",
       "1  1_HARDERSFIELD_1004      1   1004  Jim Beam w/2 Rocks Glasses       750mL   \n",
       "2  1_HARDERSFIELD_1004      1   1004  Jim Beam w/2 Rocks Glasses       750mL   \n",
       "3  1_HARDERSFIELD_1004      1   1004  Jim Beam w/2 Rocks Glasses       750mL   \n",
       "4  1_HARDERSFIELD_1005      1   1005     Maker's Mark Combo Pack  375mL 2 Pk   \n",
       "\n",
       "   SalesQuantity  SalesDollars  SalesPrice   SalesDate  Volume  \\\n",
       "0              1         16.49       16.49  2016-01-01   750.0   \n",
       "1              2         32.98       16.49  2016-01-02   750.0   \n",
       "2              1         16.49       16.49  2016-01-03   750.0   \n",
       "3              1         14.49       14.49  2016-01-08   750.0   \n",
       "4              2         69.98       34.99  2016-01-09   375.0   \n",
       "\n",
       "   Classification  ExciseTax  VendorNo                   VendorName  \n",
       "0               1       0.79     12546  JIM BEAM BRANDS COMPANY      \n",
       "1               1       1.57     12546  JIM BEAM BRANDS COMPANY      \n",
       "2               1       0.79     12546  JIM BEAM BRANDS COMPANY      \n",
       "3               1       0.79     12546  JIM BEAM BRANDS COMPANY      \n",
       "4               1       0.79     12546  JIM BEAM BRANDS COMPANY      "
      ]
     },
     "execution_count": 49,
     "metadata": {},
     "output_type": "execute_result"
    }
   ],
   "source": [
    "sales.head()"
   ]
  },
  {
   "cell_type": "code",
   "execution_count": 50,
   "id": "c3216a7a",
   "metadata": {},
   "outputs": [
    {
     "name": "stdout",
     "output_type": "stream",
     "text": [
      "<class 'pandas.core.frame.DataFrame'>\n",
      "RangeIndex: 12825363 entries, 0 to 12825362\n",
      "Data columns (total 14 columns):\n",
      " #   Column          Dtype  \n",
      "---  ------          -----  \n",
      " 0   InventoryId     object \n",
      " 1   Store           int64  \n",
      " 2   Brand           int64  \n",
      " 3   Description     object \n",
      " 4   Size            object \n",
      " 5   SalesQuantity   int64  \n",
      " 6   SalesDollars    float64\n",
      " 7   SalesPrice      float64\n",
      " 8   SalesDate       object \n",
      " 9   Volume          float64\n",
      " 10  Classification  int64  \n",
      " 11  ExciseTax       float64\n",
      " 12  VendorNo        int64  \n",
      " 13  VendorName      object \n",
      "dtypes: float64(4), int64(5), object(5)\n",
      "memory usage: 1.3+ GB\n"
     ]
    }
   ],
   "source": [
    "sales.info()"
   ]
  },
  {
   "cell_type": "code",
   "execution_count": 51,
   "id": "2b3baaeb",
   "metadata": {},
   "outputs": [
    {
     "data": {
      "text/plain": [
       "InventoryId       0\n",
       "Store             0\n",
       "Brand             0\n",
       "Description       0\n",
       "Size              0\n",
       "SalesQuantity     0\n",
       "SalesDollars      0\n",
       "SalesPrice        0\n",
       "SalesDate         0\n",
       "Volume            0\n",
       "Classification    0\n",
       "ExciseTax         0\n",
       "VendorNo          0\n",
       "VendorName        0\n",
       "dtype: int64"
      ]
     },
     "execution_count": 51,
     "metadata": {},
     "output_type": "execute_result"
    }
   ],
   "source": [
    "sales.isnull().sum().sort_values(ascending=True)"
   ]
  },
  {
   "cell_type": "code",
   "execution_count": 52,
   "id": "faa77658",
   "metadata": {},
   "outputs": [
    {
     "data": {
      "text/plain": [
       "np.int64(0)"
      ]
     },
     "execution_count": 52,
     "metadata": {},
     "output_type": "execute_result"
    }
   ],
   "source": [
    "sales.duplicated().sum()"
   ]
  },
  {
   "cell_type": "code",
   "execution_count": 56,
   "id": "c9d8d8ab",
   "metadata": {},
   "outputs": [
    {
     "data": {
      "text/plain": [
       "array(['750mL', '375mL 2 Pk', '50mL 4 Pk', '750mL 3 Pk', '375mL 3 Pk',\n",
       "       '200mL 3 Pk', '1.5L', '5L', '1L', '50mL 3 Pk', '100mL 4 Pk',\n",
       "       '1.75L', '3L', '375mL', '50mL', '100mL', '50mL 5 Pk', '187mL',\n",
       "       '500mL', '187mL 4 Pk', '250mL 4 Pk', '750mL 2 Pk', '200mL',\n",
       "       '100mL 3 Pk', '200mL 4 Pk', '4L', '5.0 Oz', '187mL 3 Pk', '300mL',\n",
       "       '720mL', '50mL 12 Pk', '330mL', '250mL', '22.0 Oz', '180mL', '18L',\n",
       "       '750mL 4 Pk', '20L', '200mL 5 Pk', '5/2 oz', '6L', '400mL', '25.0',\n",
       "       '19.5L', '187mL 2 Pk', '25', '9L'], dtype=object)"
      ]
     },
     "execution_count": 56,
     "metadata": {},
     "output_type": "execute_result"
    }
   ],
   "source": [
    "sales['Size'].unique()"
   ]
  },
  {
   "cell_type": "code",
   "execution_count": 55,
   "id": "bd132609",
   "metadata": {},
   "outputs": [],
   "source": [
    "# foratting 'Size' Column\n",
    "sales['Size'] = sales['Size'].replace('Liter','1L')\n",
    "sales['Size'] = sales['Size'].replace('750mL + 3/','750mL 3 Pk')\n",
    "sales['Size'] = sales['Size'].replace('750mL + 2/','750mL 2 Pk')\n",
    "sales['Size'] = sales['Size'].replace('3/100mL','100mL 3 Pk')\n",
    "sales['Size'] = sales['Size'].replace('750mL + 1/','750mL')\n",
    "sales['Size'] = sales['Size'].replace('750mL + 4/','750mL 4 Pk')"
   ]
  },
  {
   "cell_type": "markdown",
   "id": "b9168cc1",
   "metadata": {},
   "source": [
    "Vendor Invoices"
   ]
  },
  {
   "cell_type": "code",
   "execution_count": 61,
   "id": "fac58872",
   "metadata": {},
   "outputs": [
    {
     "data": {
      "text/html": [
       "<div>\n",
       "<style scoped>\n",
       "    .dataframe tbody tr th:only-of-type {\n",
       "        vertical-align: middle;\n",
       "    }\n",
       "\n",
       "    .dataframe tbody tr th {\n",
       "        vertical-align: top;\n",
       "    }\n",
       "\n",
       "    .dataframe thead th {\n",
       "        text-align: right;\n",
       "    }\n",
       "</style>\n",
       "<table border=\"1\" class=\"dataframe\">\n",
       "  <thead>\n",
       "    <tr style=\"text-align: right;\">\n",
       "      <th></th>\n",
       "      <th>VendorNumber</th>\n",
       "      <th>VendorName</th>\n",
       "      <th>InvoiceDate</th>\n",
       "      <th>PONumber</th>\n",
       "      <th>PODate</th>\n",
       "      <th>PayDate</th>\n",
       "      <th>Quantity</th>\n",
       "      <th>Dollars</th>\n",
       "      <th>Freight</th>\n",
       "      <th>Approval</th>\n",
       "    </tr>\n",
       "  </thead>\n",
       "  <tbody>\n",
       "    <tr>\n",
       "      <th>0</th>\n",
       "      <td>105</td>\n",
       "      <td>ALTAMAR BRANDS LLC</td>\n",
       "      <td>2016-01-04</td>\n",
       "      <td>8124</td>\n",
       "      <td>2015-12-21</td>\n",
       "      <td>2016-02-16</td>\n",
       "      <td>6</td>\n",
       "      <td>214.26</td>\n",
       "      <td>3.47</td>\n",
       "      <td>NaN</td>\n",
       "    </tr>\n",
       "    <tr>\n",
       "      <th>1</th>\n",
       "      <td>4466</td>\n",
       "      <td>AMERICAN VINTAGE BEVERAGE</td>\n",
       "      <td>2016-01-07</td>\n",
       "      <td>8137</td>\n",
       "      <td>2015-12-22</td>\n",
       "      <td>2016-02-21</td>\n",
       "      <td>15</td>\n",
       "      <td>140.55</td>\n",
       "      <td>8.57</td>\n",
       "      <td>NaN</td>\n",
       "    </tr>\n",
       "    <tr>\n",
       "      <th>2</th>\n",
       "      <td>388</td>\n",
       "      <td>ATLANTIC IMPORTING COMPANY</td>\n",
       "      <td>2016-01-09</td>\n",
       "      <td>8169</td>\n",
       "      <td>2015-12-24</td>\n",
       "      <td>2016-02-16</td>\n",
       "      <td>5</td>\n",
       "      <td>106.60</td>\n",
       "      <td>4.61</td>\n",
       "      <td>NaN</td>\n",
       "    </tr>\n",
       "    <tr>\n",
       "      <th>3</th>\n",
       "      <td>480</td>\n",
       "      <td>BACARDI USA INC</td>\n",
       "      <td>2016-01-12</td>\n",
       "      <td>8106</td>\n",
       "      <td>2015-12-20</td>\n",
       "      <td>2016-02-05</td>\n",
       "      <td>10100</td>\n",
       "      <td>137483.78</td>\n",
       "      <td>2935.20</td>\n",
       "      <td>NaN</td>\n",
       "    </tr>\n",
       "    <tr>\n",
       "      <th>4</th>\n",
       "      <td>516</td>\n",
       "      <td>BANFI PRODUCTS CORP</td>\n",
       "      <td>2016-01-07</td>\n",
       "      <td>8170</td>\n",
       "      <td>2015-12-24</td>\n",
       "      <td>2016-02-12</td>\n",
       "      <td>1935</td>\n",
       "      <td>15527.25</td>\n",
       "      <td>429.20</td>\n",
       "      <td>NaN</td>\n",
       "    </tr>\n",
       "  </tbody>\n",
       "</table>\n",
       "</div>"
      ],
      "text/plain": [
       "   VendorNumber                   VendorName InvoiceDate  PONumber  \\\n",
       "0           105  ALTAMAR BRANDS LLC           2016-01-04      8124   \n",
       "1          4466  AMERICAN VINTAGE BEVERAGE    2016-01-07      8137   \n",
       "2           388  ATLANTIC IMPORTING COMPANY   2016-01-09      8169   \n",
       "3           480  BACARDI USA INC              2016-01-12      8106   \n",
       "4           516  BANFI PRODUCTS CORP          2016-01-07      8170   \n",
       "\n",
       "       PODate     PayDate  Quantity    Dollars  Freight Approval  \n",
       "0  2015-12-21  2016-02-16         6     214.26     3.47      NaN  \n",
       "1  2015-12-22  2016-02-21        15     140.55     8.57      NaN  \n",
       "2  2015-12-24  2016-02-16         5     106.60     4.61      NaN  \n",
       "3  2015-12-20  2016-02-05     10100  137483.78  2935.20      NaN  \n",
       "4  2015-12-24  2016-02-12      1935   15527.25   429.20      NaN  "
      ]
     },
     "execution_count": 61,
     "metadata": {},
     "output_type": "execute_result"
    }
   ],
   "source": [
    "vendor_invoices.head()"
   ]
  },
  {
   "cell_type": "code",
   "execution_count": 62,
   "id": "d9d82ce7",
   "metadata": {},
   "outputs": [
    {
     "name": "stdout",
     "output_type": "stream",
     "text": [
      "<class 'pandas.core.frame.DataFrame'>\n",
      "RangeIndex: 5543 entries, 0 to 5542\n",
      "Data columns (total 10 columns):\n",
      " #   Column        Non-Null Count  Dtype  \n",
      "---  ------        --------------  -----  \n",
      " 0   VendorNumber  5543 non-null   int64  \n",
      " 1   VendorName    5543 non-null   object \n",
      " 2   InvoiceDate   5543 non-null   object \n",
      " 3   PONumber      5543 non-null   int64  \n",
      " 4   PODate        5543 non-null   object \n",
      " 5   PayDate       5543 non-null   object \n",
      " 6   Quantity      5543 non-null   int64  \n",
      " 7   Dollars       5543 non-null   float64\n",
      " 8   Freight       5543 non-null   float64\n",
      " 9   Approval      374 non-null    object \n",
      "dtypes: float64(2), int64(3), object(5)\n",
      "memory usage: 433.2+ KB\n"
     ]
    }
   ],
   "source": [
    "vendor_invoices.info()"
   ]
  },
  {
   "cell_type": "code",
   "execution_count": 82,
   "id": "ac9eb3c1",
   "metadata": {},
   "outputs": [],
   "source": [
    "# changing all date columns to datetime\n",
    "sales['SalesDate'] = pd.to_datetime(sales['SalesDate'])\n",
    "beg_inv['startDate'] = pd.to_datetime(beg_inv['startDate'])\n",
    "end_inv['endDate'] = pd.to_datetime(end_inv['endDate'])\n",
    "final_purchase['PODate'] = pd.to_datetime(final_purchase['PODate'])\n",
    "final_purchase['ReceivingDate'] = pd.to_datetime(final_purchase['ReceivingDate'])\n",
    "final_purchase['InvoiceDate'] = pd.to_datetime(final_purchase['InvoiceDate'])\n",
    "final_purchase['PayDate'] = pd.to_datetime(final_purchase['PayDate'])\n",
    "vendor_invoices['InvoiceDate'] = pd.to_datetime(vendor_invoices['InvoiceDate'])\n",
    "vendor_invoices['PODate'] = pd.to_datetime(vendor_invoices['PODate'])\n",
    "vendor_invoices['PayDate'] = pd.to_datetime(vendor_invoices['PayDate'])"
   ]
  },
  {
   "cell_type": "code",
   "execution_count": 100,
   "id": "7b6bff07",
   "metadata": {},
   "outputs": [],
   "source": [
    "purchase_price.columns = [c.upper() for c in purchase_price.columns]\n",
    "beg_inv.columns = [c.upper() for c in beg_inv.columns]\n",
    "end_inv.columns = [c.upper() for c in end_inv.columns]\n",
    "final_purchase.columns = [c.upper() for c in final_purchase.columns]\n",
    "sales.columns = [c.upper() for c in sales.columns]\n",
    "vendor_invoices.columns = [c.upper() for c in vendor_invoices.columns]"
   ]
  },
  {
   "cell_type": "markdown",
   "id": "4410e8cb",
   "metadata": {},
   "source": [
    "####  Uploading data to Snowflake"
   ]
  },
  {
   "cell_type": "code",
   "execution_count": null,
   "id": "2511e6ad",
   "metadata": {},
   "outputs": [],
   "source": [
    "from sqlalchemy import create_engine\n",
    "from snowflake.sqlalchemy import URL\n",
    "\n",
    "engine = create_engine(URL(\n",
    "    user='xxxxxx',\n",
    "    password='xxxxxxx',\n",
    "    account='xxxxxxx',\n",
    "    warehouse='xxxxxx',\n",
    "    database='xxxxxx',\n",
    "    schema='xxxxxx'\n",
    "))"
   ]
  },
  {
   "cell_type": "code",
   "execution_count": null,
   "id": "049e1c68",
   "metadata": {},
   "outputs": [
    {
     "name": "stderr",
     "output_type": "stream",
     "text": [
      "C:\\Users\\14379\\AppData\\Local\\Temp\\ipykernel_3056\\2221202118.py:4: UserWarning: The provided table name 'END_INV' is not found exactly as such in the database after writing the table, possibly due to case sensitivity issues. Consider using lower case table names.\n",
      "  end_inv.to_sql('END_INV', con=engine, if_exists='append', index=False, chunksize=10000)\n",
      "C:\\Users\\14379\\AppData\\Local\\Temp\\ipykernel_3056\\2221202118.py:5: UserWarning: The provided table name 'FINAL_PURCHASE' is not found exactly as such in the database after writing the table, possibly due to case sensitivity issues. Consider using lower case table names.\n",
      "  final_purchase.to_sql('FINAL_PURCHASE', con=engine, if_exists='append', index=False, chunksize=10000)\n",
      "C:\\Users\\14379\\AppData\\Local\\Temp\\ipykernel_3056\\2221202118.py:6: UserWarning: The provided table name 'SALES' is not found exactly as such in the database after writing the table, possibly due to case sensitivity issues. Consider using lower case table names.\n",
      "  sales.to_sql('SALES', con=engine, if_exists='append', index=False, chunksize=10000)\n",
      "C:\\Users\\14379\\AppData\\Local\\Temp\\ipykernel_3056\\2221202118.py:7: UserWarning: The provided table name 'VENDOR_INVOICES' is not found exactly as such in the database after writing the table, possibly due to case sensitivity issues. Consider using lower case table names.\n",
      "  vendor_invoices.to_sql('VENDOR_INVOICES', con=engine, if_exists='append', index=False, chunksize=10000)\n",
      "C:\\Users\\14379\\AppData\\Local\\Temp\\ipykernel_3056\\2221202118.py:8: UserWarning: The provided table name 'MONTHLY_SALES' is not found exactly as such in the database after writing the table, possibly due to case sensitivity issues. Consider using lower case table names.\n",
      "  monthly_sales.to_sql('MONTHLY_SALES', con=engine, if_exists='append', index=False, chunksize=10000)\n"
     ]
    },
    {
     "data": {
      "text/plain": [
       "12"
      ]
     },
     "execution_count": 112,
     "metadata": {},
     "output_type": "execute_result"
    }
   ],
   "source": [
    "# Upload all cleaned DataFrames\n",
    "purchase_price.to_sql('PURCHASE_PRICE', con=engine, if_exists='append', index=False)\n",
    "beg_inv.to_sql('BEG_INV', con=engine, if_exists='append', index=False, chunksize=10000)\n",
    "end_inv.to_sql('END_INV', con=engine, if_exists='append', index=False, chunksize=10000)\n",
    "final_purchase.to_sql('FINAL_PURCHASE', con=engine, if_exists='append', index=False, chunksize=10000)\n",
    "sales.to_sql('SALES', con=engine, if_exists='append', index=False, chunksize=10000)\n",
    "vendor_invoices.to_sql('VENDOR_INVOICES', con=engine, if_exists='append', index=False, chunksize=10000)\n"
   ]
  }
 ],
 "metadata": {
  "kernelspec": {
   "display_name": "Python 3",
   "language": "python",
   "name": "python3"
  },
  "language_info": {
   "codemirror_mode": {
    "name": "ipython",
    "version": 3
   },
   "file_extension": ".py",
   "mimetype": "text/x-python",
   "name": "python",
   "nbconvert_exporter": "python",
   "pygments_lexer": "ipython3",
   "version": "3.12.2"
  }
 },
 "nbformat": 4,
 "nbformat_minor": 5
}
